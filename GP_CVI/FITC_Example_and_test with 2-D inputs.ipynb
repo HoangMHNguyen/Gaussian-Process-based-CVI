{
 "cells": [
  {
   "cell_type": "code",
   "execution_count": 1,
   "metadata": {},
   "outputs": [
    {
     "data": {
      "text/plain": [
       "Plots.PyPlotBackend()"
      ]
     },
     "execution_count": 1,
     "metadata": {},
     "output_type": "execute_result"
    }
   ],
   "source": [
    "using Zygote\n",
    "using LinearAlgebra, Distributions, Random, Statistics, SpecialFunctions\n",
    "using Plots, JLD\n",
    "\n",
    "pyplot()"
   ]
  },
  {
   "cell_type": "code",
   "execution_count": 2,
   "metadata": {},
   "outputs": [
    {
     "data": {
      "text/plain": [
       "FITC_online_update (generic function with 2 methods)"
      ]
     },
     "execution_count": 2,
     "metadata": {},
     "output_type": "execute_result"
    }
   ],
   "source": [
    "include(\"F:/Tue/Thesis/codes/GP_CVI/Training_FITC.jl\")#remember to change the path to \"Training_FITC.jl\"\n",
    "include(\"F:/Tue/Thesis/codes/GP_CVI/FITC.jl\") # remember to change the path to \"FITC.jl\""
   ]
  },
  {
   "cell_type": "markdown",
   "metadata": {},
   "source": [
    "### Create function and observation"
   ]
  },
  {
   "cell_type": "code",
   "execution_count": 3,
   "metadata": {},
   "outputs": [],
   "source": [
    "Random.seed!(1209) ;\n",
    "true_process(x) = sin(x[1]^2) + 5*cos(x[2]); #x is 2-elements vector\n",
    "\n",
    "N_obser = 100; #number of observations\n",
    "x_train = rand(1:0.01:100,(2,N_obser)); #training points\n",
    "y_train = Vector{Float64}(undef, N_obser); #training function values\n",
    "for i=1:N_obser\n",
    "    y_train[i] = true_process(x_train[:,i])\n",
    "end\n",
    "\n",
    "U = 50\n",
    "x_induc = rand(1:0.01:100,(2,50)); #inducing point\n"
   ]
  },
  {
   "cell_type": "code",
   "execution_count": 4,
   "metadata": {},
   "outputs": [
    {
     "data": {
      "text/plain": [
       "([4.354843661668971, 0.18562413482039172, 0.8915038786114581, 2.967542769426658, 0.9324177190945193, 3.601150587264511, 4.901066101428669, -2.4610164797002723, -1.2970715549660847, -0.831010714100934  …  8.797027975393773, -2.946099125622936, -2.149311412717421, -2.183671248310092, 0.0022169590171483367, 2.9725040421072593, 3.4210578772921276, -1.5053756675538852, 1.122382711337553, -1.8072105998684538], [3.7642617614273317 0.008470552407627684 … 2.1475722406321934e-8 -3.838164129975099e-8; 0.008470552407626931 24.988763361100652 … -1.255706720827434e-10 -1.9625859987434427e-9; … ; 2.147572240632136e-8 -1.2557067208268046e-10 … 15.683631608765852 0.02943863032130478; -3.838164129975067e-8 -1.9625859987434973e-9 … 0.029438630321304837 14.87873378189952])"
      ]
     },
     "execution_count": 4,
     "metadata": {},
     "output_type": "execute_result"
    }
   ],
   "source": [
    "#hyper-parameters for GP\n",
    "σ, l = 5,[7,4];\n",
    "#Now, find the info of the posterior of inducing points\n",
    "μ_u, Σ_u = FITC_post_indu(x_train, x_induc, y_train, σ, l)\n",
    "\n",
    "#there is actually a training step here, but at the moment just skip it. Remember that the ouput of the training must \n",
    "#include the optimal values of 3 following things: μ_u, Σ_u and Xu"
   ]
  },
  {
   "cell_type": "code",
   "execution_count": 5,
   "metadata": {},
   "outputs": [
    {
     "name": "stdout",
     "output_type": "stream",
     "text": [
      "New points:[88; 92]\n",
      "Predicted valued:[3.633211825654834]\n",
      "uncertainty:[2.8562098599663455]\n",
      "True value:-3.106334033293108\n"
     ]
    }
   ],
   "source": [
    "#Now perform prediction on new points\n",
    "x_test = rand(1:100,(2,1));\n",
    "μ_predict, σ_predict = FITC_predict(x_induc,x_test,μ_u,Σ_u,σ,l);\n",
    "println(\"New points:\",x_test)\n",
    "println(\"Predicted valued:\", μ_predict)\n",
    "println(\"uncertainty:\",sqrt(σ_predict))\n",
    "println(\"True value:\",true_process(x_test))"
   ]
  },
  {
   "cell_type": "markdown",
   "metadata": {},
   "source": [
    "#### Basically everthing works just fine. we get the wrong result because all parameters are not optimized yet. \n",
    "#### Now, we will perform optimization, using Gradient Descent."
   ]
  },
  {
   "cell_type": "markdown",
   "metadata": {},
   "source": [
    "## Optimization"
   ]
  },
  {
   "cell_type": "code",
   "execution_count": 6,
   "metadata": {},
   "outputs": [
    {
     "data": {
      "text/plain": [
       "205.97752571702296"
      ]
     },
     "execution_count": 6,
     "metadata": {},
     "output_type": "execute_result"
    }
   ],
   "source": [
    "neg_llh(x_train,x_induc,y_train,σ,l)"
   ]
  },
  {
   "cell_type": "code",
   "execution_count": 12,
   "metadata": {},
   "outputs": [
    {
     "data": {
      "text/plain": [
       "([52.76612850828854 63.43898452839426 … 36.675863854079175 7.450957252466448; 81.01105061794325 94.24966097102498 … 12.396556024163415 38.54289674765451], 3.4111036695287935, [145.271496359267, 1.2816824339682302], [4.270367688499968, 5.694431458646791, -0.4188347086873273, 1.6786972705726677, 2.864598525971304, 1.2148522202025487, 5.730649047042886, -3.722479698106484, -1.6811037358943275, -0.7577389351144169  …  -0.13285160214259045, -3.8377988061862585, -4.856327153523058, -1.9971732783390188, -4.575402428792395, 5.329588923524865, 2.0746165036601663, -4.902454672131508, 4.679514051204174, 1.5725033939257607], [0.1061282977060283 1.3720818817881807e-6 … 2.705588121391091e-32 -8.014295518798196e-26; 1.3720818818359573e-6 0.3118477509527564 … -1.0290800768726288e-37 3.0482658403161476e-31; … ; 2.705588121389862e-32 -1.0290800768283937e-37 … 0.0572883498038507 -2.919132008855884e-7; -8.014295518853373e-26 3.0482658402969323e-31 … -2.919132008881375e-7 1.2458470316411656], 109.21169970086363)"
      ]
     },
     "execution_count": 12,
     "metadata": {},
     "output_type": "execute_result"
    }
   ],
   "source": [
    "Xu_op, σ_op, l_op, μ_u, Σ_u, llh_val = train_FITC(x_train, x_induc, y_train, σ, l, 1e-2, 70000)\n"
   ]
  },
  {
   "cell_type": "code",
   "execution_count": null,
   "metadata": {},
   "outputs": [],
   "source": [
    "save(\"F:\\\\Tue\\\\Thesis\\\\codes\\\\GP_CVI\\\\optimal_params.jld\",\"params\",[Xu_op, σ_op, l_op]); #store optimal values"
   ]
  },
  {
   "cell_type": "code",
   "execution_count": 74,
   "metadata": {},
   "outputs": [],
   "source": [
    "μ_u, Σ_u = FITC_post_indu(x_train, Xu_op, y_train, σ_op, l_op);"
   ]
  },
  {
   "cell_type": "code",
   "execution_count": 75,
   "metadata": {},
   "outputs": [
    {
     "name": "stdout",
     "output_type": "stream",
     "text": [
      "New points:[88; 92]\n",
      "Predicted valued (after optimizing):-3.2106004318026278\n",
      "uncertainty (after optimizaing):1.9708950826170808\n",
      "True value:-3.106334033293108\n"
     ]
    }
   ],
   "source": [
    "\n",
    "μ_predict_new, σ_predict_new = FITC_predict(Xu_op,x_test,μ_u,Σ_u,σ_op,l_op);\n",
    "println(\"New points:\",x_test)\n",
    "println(\"Predicted valued (after optimizing):\", μ_predict_new[1])\n",
    "println(\"uncertainty (after optimizaing):\",sqrt(σ_predict_new)[1])\n",
    "println(\"True value:\",true_process(x_test))"
   ]
  },
  {
   "cell_type": "markdown",
   "metadata": {},
   "source": [
    "### Test updating functions (still working on this)\n",
    "We create a set of new test points and predict the function values of them. There are some points outside the training region, thus the uncertainty of those points might be large, and we need to update them. To do so, we need a threshold for the uncertainty. "
   ]
  },
  {
   "cell_type": "code",
   "execution_count": 205,
   "metadata": {},
   "outputs": [],
   "source": [
    "\n",
    "X_test = rand(100:200,(2,100)); # create a set of new points, wherein some points lie outside the region of training points\n",
    "threshold_uncertainty = 2.0; #threshold for uncertainty\n",
    "\n",
    "test_values = []; # this stores the values of new function values\n",
    "true_values = []; # this stores true values\n",
    "test_uncertainty = []; # this stores the uncertainty at different test points\n",
    "\n",
    "update_count = 0\n",
    "\n",
    "for i=1:size(X_test,2)\n",
    "    predicted_value, predicted_uncertainty = FITC_predict(Xu_op,X_test[:,i],μ_u,Σ_u,σ_op,l_op);\n",
    "    true_val = true_process(X_test[:,i])\n",
    "    append!(test_values,predicted_value[1]);\n",
    "    append!(test_uncertainty,sqrt(predicted_uncertainty)[1]);\n",
    "    append!(true_values,true_val);\n",
    "    \n",
    "    # Now if the new uncertainty is greater than the threshold, we will observe the new function value and update\n",
    "    # the posterior info p(f_u|f), i.e. update μ_u and Σ_u\n",
    "    if sqrt(predicted_uncertainty)[1] > threshold_uncertainty #abs(sqrt(predicted_uncertainty)[1] - σ_op) < 1e-2 || sqrt(predicted_uncertainty)[1] > σ_op \n",
    "        f_new = true_process(X_test[:,i]); #get the new observation\n",
    "        x_train = hcat(x_train,X_test[:,i]);\n",
    "        Xu_op = hcat(Xu_op,X_test[:,i]);\n",
    "        append!(y_train,f_new);\n",
    "        μ_u, Σ_u = FITC_post_indu(x_train, Xu_op, y_train, σ_op, l_op);\n",
    "        \n",
    "    #elseif sqrt(predicted_uncertainty)[1] > threshold_uncertainty && sqrt(predicted_uncertainty)[1] < σ_op\n",
    "        #f_new = true_process(X_test[:,i]); #get the new observation\n",
    "        \n",
    "        #update our belief about inducing points\n",
    "        #μ_u, Σ_u = FITC_online_update(Xu_op,X_test[:,i],f_new,μ_u,Σ_u,σ_op,l_op)\n",
    "        \n",
    "        update_count += 1\n",
    "    end\n",
    "end\n",
    "\n"
   ]
  },
  {
   "cell_type": "code",
   "execution_count": 206,
   "metadata": {},
   "outputs": [
    {
     "data": {
      "text/plain": [
       "100-element Array{Float64,1}:\n",
       " 2.474868061867437\n",
       " 0.201941477483091\n",
       " 1.0715506645922135\n",
       " 0.9587175861356214\n",
       " 1.127031879216437\n",
       " 0.5268618559463937\n",
       " 0.135475877484875\n",
       " 1.9497488630660107\n",
       " 0.3941929037723928\n",
       " 0.20674221716040941\n",
       " 1.1412096560671003\n",
       " 0.8453835697479537\n",
       " 0.7604759027378805\n",
       " ⋮\n",
       " 0.03692034556406654\n",
       " 1.0403744306083667\n",
       " 0.8984257993747139\n",
       " 0.5876540235105954\n",
       " 0.005254005178541021\n",
       " 0.5882811743657914\n",
       " 0.39973262273917687\n",
       " 0.8509354188283371\n",
       " 1.1327028510966848\n",
       " 0.3133777611092561\n",
       " 0.08110759899041198\n",
       " 2.669430450651639"
      ]
     },
     "execution_count": 206,
     "metadata": {},
     "output_type": "execute_result"
    }
   ],
   "source": [
    "diff_val = abs.(true_values - test_values)"
   ]
  },
  {
   "cell_type": "code",
   "execution_count": 207,
   "metadata": {},
   "outputs": [
    {
     "data": {
      "text/plain": [
       "69"
      ]
     },
     "execution_count": 207,
     "metadata": {},
     "output_type": "execute_result"
    }
   ],
   "source": [
    "length(findall(x->x<1, diff_val))"
   ]
  },
  {
   "cell_type": "code",
   "execution_count": 151,
   "metadata": {},
   "outputs": [
    {
     "data": {
      "text/plain": [
       "3.8236255993877153"
      ]
     },
     "execution_count": 151,
     "metadata": {},
     "output_type": "execute_result"
    }
   ],
   "source": [
    "true_values[98]"
   ]
  },
  {
   "cell_type": "code",
   "execution_count": 131,
   "metadata": {},
   "outputs": [
    {
     "data": {
      "text/plain": [
       "2.768327270920563"
      ]
     },
     "execution_count": 131,
     "metadata": {},
     "output_type": "execute_result"
    }
   ],
   "source": [
    "test_values[98]"
   ]
  },
  {
   "cell_type": "code",
   "execution_count": 208,
   "metadata": {},
   "outputs": [
    {
     "data": {
      "text/plain": [
       "100-element Array{Any,1}:\n",
       " 1.3914362333614345\n",
       " 1.2470814175215736\n",
       " 0.438280721912232\n",
       " 0.8091338261269616\n",
       " 1.5646344025008045\n",
       " 1.1918472374616498\n",
       " 1.330239904517321\n",
       " 0.45331825977953194\n",
       " 2.0706121993379973\n",
       " 0.06506002710245219\n",
       " 0.9730122219758361\n",
       " 0.7985670080269375\n",
       " 0.6495383644937344\n",
       " ⋮\n",
       " 1.107053328847957\n",
       " 0.7730360741295981\n",
       " 0.9506320443536189\n",
       " 0.7421244623933039\n",
       " 0.39052845620235443\n",
       " 1.5375727310885408\n",
       " 0.7385124396144505\n",
       " 1.237764396136931\n",
       " 1.384443673945532\n",
       " 0.6858066655124615\n",
       " 1.516278844271956\n",
       " 1.2449698692166247"
      ]
     },
     "execution_count": 208,
     "metadata": {},
     "output_type": "execute_result"
    }
   ],
   "source": [
    "test_uncertainty"
   ]
  },
  {
   "cell_type": "code",
   "execution_count": 209,
   "metadata": {},
   "outputs": [
    {
     "data": {
      "text/plain": [
       "117-element Array{Float64,1}:\n",
       "  4.270367112520697\n",
       "  5.696256517343923\n",
       " -0.4188347086873479\n",
       "  1.6786972693249576\n",
       "  2.864598526004346\n",
       "  1.2148522202007168\n",
       "  5.733125528311544\n",
       " -3.722479698106123\n",
       " -1.6811037358943812\n",
       " -0.7797711651301357\n",
       "  3.965582103446725\n",
       " -3.564054721312357\n",
       "  4.215350208131009\n",
       "  ⋮\n",
       " -0.8971937819425866\n",
       " -4.213009699518236\n",
       "  4.8845243705139865\n",
       "  2.740637553243134\n",
       " -5.506260212223151\n",
       "  5.5523984175902665\n",
       " -0.5497662402749242\n",
       "  2.246625784043753\n",
       " -0.3535050019277455\n",
       " -4.1502243174982585\n",
       " -4.933057495295901\n",
       " -2.916001619225517"
      ]
     },
     "execution_count": 209,
     "metadata": {},
     "output_type": "execute_result"
    }
   ],
   "source": [
    "μ_u"
   ]
  },
  {
   "cell_type": "code",
   "execution_count": 210,
   "metadata": {},
   "outputs": [
    {
     "data": {
      "text/plain": [
       "4-element Array{Int64,1}:\n",
       "  1\n",
       "  5\n",
       "  0\n",
       " -3"
      ]
     },
     "execution_count": 210,
     "metadata": {},
     "output_type": "execute_result"
    }
   ],
   "source": [
    "a = [1,5,0,-3]"
   ]
  },
  {
   "cell_type": "code",
   "execution_count": 211,
   "metadata": {},
   "outputs": [
    {
     "data": {
      "text/plain": [
       "4-element Array{Int64,1}:\n",
       " 2\n",
       " 1\n",
       " 2\n",
       " 3"
      ]
     },
     "execution_count": 211,
     "metadata": {},
     "output_type": "execute_result"
    }
   ],
   "source": [
    "b = [2,1,2,3]"
   ]
  },
  {
   "cell_type": "code",
   "execution_count": 215,
   "metadata": {},
   "outputs": [
    {
     "data": {
      "text/plain": [
       "4-element BitArray{1}:\n",
       " 1\n",
       " 0\n",
       " 1\n",
       " 1"
      ]
     },
     "execution_count": 215,
     "metadata": {},
     "output_type": "execute_result"
    }
   ],
   "source": [
    "a.<b"
   ]
  },
  {
   "cell_type": "code",
   "execution_count": 217,
   "metadata": {},
   "outputs": [
    {
     "data": {
      "text/plain": [
       "true"
      ]
     },
     "execution_count": 217,
     "metadata": {},
     "output_type": "execute_result"
    }
   ],
   "source": [
    "length(findall(x->x==0,a .< b)) >= 1"
   ]
  },
  {
   "cell_type": "code",
   "execution_count": 225,
   "metadata": {},
   "outputs": [
    {
     "data": {
      "text/plain": [
       "2×4 Array{Int64,2}:\n",
       " 1  5  0  -3\n",
       " 2  1  2   3"
      ]
     },
     "execution_count": 225,
     "metadata": {},
     "output_type": "execute_result"
    }
   ],
   "source": [
    "c = vcat(a',b')"
   ]
  },
  {
   "cell_type": "code",
   "execution_count": 226,
   "metadata": {},
   "outputs": [
    {
     "data": {
      "text/plain": [
       "5"
      ]
     },
     "execution_count": 226,
     "metadata": {},
     "output_type": "execute_result"
    }
   ],
   "source": []
  }
 ],
 "metadata": {
  "kernelspec": {
   "display_name": "Julia 1.5.3",
   "language": "julia",
   "name": "julia-1.5"
  },
  "language_info": {
   "file_extension": ".jl",
   "mimetype": "application/julia",
   "name": "julia",
   "version": "1.5.3"
  }
 },
 "nbformat": 4,
 "nbformat_minor": 4
}
