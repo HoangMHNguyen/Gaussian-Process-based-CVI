{
 "cells": [
  {
   "cell_type": "code",
   "execution_count": 2,
   "metadata": {},
   "outputs": [],
   "source": [
    "include(\"./BayesianUtilities-main/BayesianUtilities.jl\")\n",
    "using Distributions, LinearAlgebra, Plots, Random, .BayesianUtilities, Zygote\n",
    "using DataStructures: Queue, enqueue!, dequeue!\n",
    "using Flux.Optimise\n",
    "using CSV, DataFrames, JLD"
   ]
  },
  {
   "cell_type": "code",
   "execution_count": 4,
   "metadata": {},
   "outputs": [],
   "source": [
    "include(\"./ICM functions/predict_ICM.jl\");\n",
    "include(\"./ICM functions/optimize_ICM.jl\");"
   ]
  },
  {
   "cell_type": "code",
   "execution_count": 5,
   "metadata": {},
   "outputs": [],
   "source": [
    "data = CSV.read(\".\\\\Covid_RIVM.csv\",DataFrame, delim=\";\");\n",
    "observation = Float64.(data.Tested_positive)\n",
    "T = length(observation);"
   ]
  },
  {
   "cell_type": "code",
   "execution_count": 6,
   "metadata": {},
   "outputs": [
    {
     "data": {
      "text/plain": [
       "log_likelihood (generic function with 1 method)"
      ]
     },
     "execution_count": 6,
     "metadata": {},
     "output_type": "execute_result"
    }
   ],
   "source": [
    "# Newtonian dynamics assumption\n",
    "A = [1. 1.; 0. 1.]\n",
    "B = [1. 0.]\n",
    "\n",
    "# Priors\n",
    "p_z_init = MvNormal(zeros(2),diagm(0=>ones(2)))\n",
    "#p_W = Wishart(2,diagm(0=>ones(2)))\n",
    "W = diagm(0=>ones(2))\n",
    "\n",
    "# Non-conjugate loglikelihood function\n",
    "function log_likelihood(y,z)\n",
    "    x = exp((B*z)[1]) # B*z returns 1 dimensional array\n",
    "    logpdf(Poisson(x),y)\n",
    "end"
   ]
  },
  {
   "cell_type": "code",
   "execution_count": 7,
   "metadata": {},
   "outputs": [
    {
     "data": {
      "text/plain": [
       "approx_message_z (generic function with 1 method)"
      ]
     },
     "execution_count": 7,
     "metadata": {},
     "output_type": "execute_result"
    }
   ],
   "source": [
    "function approx_message_z(obs::Real,mes_income::MvNormal,η::Real)\n",
    "    opt = AdaMax(η) #change at this location: different optimizer\n",
    "    q = mes_income # initialize variational distribution with closed form incoming message\n",
    "    _, _, λ_q, _, _ = exp_family(q) # initial variational parameters\n",
    "    λ_m = zeros(6) # initial message parameters\n",
    "    violation = 0 # keep track of number of updates lead to invalid parameters \n",
    "    converge = 1.0; # convergent condition\n",
    "    while converge > 1e-4\n",
    "        logp(z) = log_likelihood(obs,z)\n",
    "        grad = cvi(logp,q) # grad estimates\n",
    "        λ_m_old = copy(λ_m); #check convergence\n",
    "        update!(opt,λ_m,λ_m - grad)\n",
    "        λ_q = λ_q .+ λ_m # update variational parameters\n",
    "        try\n",
    "            q = exp_family(MvNormal, λ_q) # update q\n",
    "            converge = norm(λ_m - λ_m_old) \n",
    "        catch\n",
    "            λ_q = λ_q .- λ_m # avoid updates that violate the support of Gaussian\n",
    "            violation += 1\n",
    "            converge = 1.0\n",
    "            @show violation\n",
    "        end\n",
    "    end\n",
    "    return λ_m # return approximate message parameters\n",
    "end"
   ]
  },
  {
   "cell_type": "code",
   "execution_count": 8,
   "metadata": {},
   "outputs": [
    {
     "data": {
      "text/plain": [
       "smooth (generic function with 1 method)"
      ]
     },
     "execution_count": 8,
     "metadata": {},
     "output_type": "execute_result"
    }
   ],
   "source": [
    "function filter_CVI(W, T)\n",
    "    time = [];\n",
    "    forward_estimates = Array{MvNormal}(undef, T);\n",
    "    λ_m = approx_message_z(observation[1],p_z_init,0.4);   \n",
    "    forward_estimates[1] = collide(p_z_init,Canonical(MvNormal, λ_m));\n",
    "    for t=2:T\n",
    "       t1 = @elapsed predict = A*forward_estimates[t-1] + MvNormal(zeros(2),Matrix(Hermitian(inv(W))));\n",
    "       t2 = @elapsed λ_m = approx_message_z(observation[t],predict,0.4);\n",
    "       t3 = @elapsed forward_estimates[t] = collide(predict,Canonical(MvNormal, λ_m));\n",
    "        time = append!(time,t1+t2+t3); #start from t=2\n",
    "    end\n",
    "    return forward_estimates, time\n",
    "end\n",
    "\n",
    "\n",
    "function smooth(forward_estimates,W, T)\n",
    "    smooth_estimates = Array{MvNormal}(undef, T);\n",
    "    smooth_estimates[T] = forward_estimates[T];\n",
    "    joint_dists = Array{MvNormal}(undef, T-1);\n",
    "    for t=T-1:-1:1\n",
    "        smooth_estimates[t], joint_dists[t] = transit(forward_estimates[t],smooth_estimates[t+1],A,W);\n",
    "    end\n",
    "    return smooth_estimates, joint_dists\n",
    "end"
   ]
  },
  {
   "cell_type": "code",
   "execution_count": 9,
   "metadata": {},
   "outputs": [
    {
     "name": "stdout",
     "output_type": "stream",
     "text": [
      "691.379332 seconds (2.74 G allocations: 221.649 GiB, 8.21% gc time, 1.79% compilation time)\n"
     ]
    }
   ],
   "source": [
    "Random.seed!(1)\n",
    "@time begin\n",
    "forward_estimates_cvi, time_cvi = filter_CVI(W,T);\n",
    "smooth_estimates_CVI, joint_dists_CVI = smooth(forward_estimates_cvi, W, T);\n",
    "end\n",
    ";"
   ]
  },
  {
   "cell_type": "code",
   "execution_count": 10,
   "metadata": {},
   "outputs": [
    {
     "data": {
      "text/plain": [
       "2277.861348917162"
      ]
     },
     "execution_count": 10,
     "metadata": {},
     "output_type": "execute_result"
    }
   ],
   "source": [
    "Random.seed!(10)\n",
    "FE_cvi = []; #store FE values at each time step\n",
    "for t=1:T\n",
    "    if t==1\n",
    "        FE_temp = -entropy(smooth_estimates_CVI[t]) + cross_entropy(smooth_estimates_CVI[t], p_z_init);\n",
    "        FE_temp -= normal_conditional_entropy(smooth_estimates_CVI[t], smooth_estimates_CVI[t+1], joint_dists_CVI[t]);\n",
    "        FE_temp += transit(smooth_estimates_CVI[t],smooth_estimates_CVI[t+1],joint_dists_CVI[t],A,W)\n",
    "        Av_t = 0;\n",
    "        for s=1:500\n",
    "            Av_t -= log_likelihood(observation[t],rand(smooth_estimates_CVI[t]));\n",
    "        end\n",
    "        FE_temp += Av_t/500;\n",
    "        append!(FE_cvi,FE_temp);\n",
    "    elseif t==T\n",
    "        Av_t = 0;\n",
    "        for s=1:500\n",
    "            Av_t -= log_likelihood(observation[t],rand(smooth_estimates_CVI[t]));\n",
    "        end\n",
    "        FE_temp = Av_t/500;\n",
    "        append!(FE_cvi,FE_temp);\n",
    "    else\n",
    "        FE_temp = -normal_conditional_entropy(smooth_estimates_CVI[t], smooth_estimates_CVI[t+1], joint_dists_CVI[t]);\n",
    "        FE_temp =+ transit(smooth_estimates_CVI[t],smooth_estimates_CVI[t+1],joint_dists_CVI[t],A,W)\n",
    "        Av_t = 0;\n",
    "        for s=1:500\n",
    "            Av_t -= log_likelihood(observation[t],rand(smooth_estimates_CVI[t]));\n",
    "        end\n",
    "        FE_temp += Av_t/500;\n",
    "        append!(FE_cvi,FE_temp);\n",
    "    end\n",
    "end\n",
    "sum(FE_cvi)"
   ]
  },
  {
   "cell_type": "code",
   "execution_count": 11,
   "metadata": {},
   "outputs": [],
   "source": [
    "state1_est_CVI = zeros(T)\n",
    "var1_est_CVI = zeros(T)\n",
    "\n",
    "for t=1:T\n",
    "    state1_est_CVI[t] = mean(smooth_estimates_CVI[t])[1]\n",
    "    var1_est_CVI[t] = var(smooth_estimates_CVI[t])[1]\n",
    "end"
   ]
  },
  {
   "cell_type": "code",
   "execution_count": 12,
   "metadata": {},
   "outputs": [],
   "source": [
    "save(\".\\\\results\\\\state1_estimates_CVI.jld\",\"state1_estimate\",state1_est_CVI);\n",
    "save(\".\\\\results\\\\var1_estimates_CVI.jld\",\"var1_estimate\",var1_est_CVI);\n",
    "save(\".\\\\results\\\\inference_time_cvi.jld\",\"inference_time\",time_cvi);"
   ]
  },
  {
   "cell_type": "code",
   "execution_count": null,
   "metadata": {},
   "outputs": [],
   "source": []
  }
 ],
 "metadata": {
  "kernelspec": {
   "display_name": "Julia 1.7.1",
   "language": "julia",
   "name": "julia-1.7"
  },
  "language_info": {
   "file_extension": ".jl",
   "mimetype": "application/julia",
   "name": "julia",
   "version": "1.7.1"
  }
 },
 "nbformat": 4,
 "nbformat_minor": 4
}
