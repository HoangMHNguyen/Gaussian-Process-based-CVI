{
 "cells": [
  {
   "cell_type": "code",
   "execution_count": 1,
   "metadata": {},
   "outputs": [],
   "source": [
    "include(\"BayesianUtilities.jl\")\n",
    "using Distributions, LinearAlgebra, .BayesianUtilities"
   ]
  },
  {
   "cell_type": "code",
   "execution_count": 2,
   "metadata": {},
   "outputs": [
    {
     "data": {
      "text/plain": [
       "2-element Array{Float64,1}:\n",
       "  0.2008467229653198\n",
       " -0.043252595155709346"
      ]
     },
     "execution_count": 2,
     "metadata": {},
     "output_type": "execute_result"
    }
   ],
   "source": [
    "logp(z) = logpdf(Normal(2.1, 3.4),z)\n",
    "q = Normal(1.5, 0.8)\n",
    "\n",
    "cvi(logp,q)"
   ]
  },
  {
   "cell_type": "code",
   "execution_count": 3,
   "metadata": {},
   "outputs": [
    {
     "data": {
      "text/plain": [
       "2-element Array{Float64,1}:\n",
       "  0.16979063770999409\n",
       " -0.043252595155709346"
      ]
     },
     "execution_count": 3,
     "metadata": {},
     "output_type": "execute_result"
    }
   ],
   "source": [
    "cvi(logp,q,10)"
   ]
  },
  {
   "cell_type": "code",
   "execution_count": 4,
   "metadata": {},
   "outputs": [
    {
     "data": {
      "text/plain": [
       "6-element Array{Float64,1}:\n",
       " -0.21268752509697114\n",
       "  2.1993331693807567\n",
       " -0.18292682926829262\n",
       "  0.12195121951219506\n",
       "  0.12195121951219506\n",
       " -0.4146341463414633"
      ]
     },
     "execution_count": 4,
     "metadata": {},
     "output_type": "execute_result"
    }
   ],
   "source": [
    "logp(z) = logpdf(MvNormal([2.1, 1.0], [3.4 1; 1 1.5]),z)\n",
    "q = MvNormal([1.5,0.2], diagm(0=>ones(2)))\n",
    "\n",
    "cvi(logp,q)"
   ]
  },
  {
   "cell_type": "code",
   "execution_count": 26,
   "metadata": {},
   "outputs": [],
   "source": [
    "z1 = Normal(1,2)\n",
    "z3 = Gamma(1,2)\n",
    "z4 = Normal(2,3)\n",
    "\n",
    "f(z1,z2,z3,z4) = logpdf(Normal(z1*z2,1/sqrt(z3)),z4);"
   ]
  },
  {
   "cell_type": "code",
   "execution_count": 33,
   "metadata": {},
   "outputs": [
    {
     "name": "stdout",
     "output_type": "stream",
     "text": [
      "-2.118287590990694\n",
      "-2.118287590990695\n"
     ]
    },
    {
     "data": {
      "text/plain": [
       "f_new (generic function with 1 method)"
      ]
     },
     "execution_count": 33,
     "metadata": {},
     "output_type": "execute_result"
    }
   ],
   "source": [
    "using Zygote, ForwardDiff\n",
    "\n",
    "#df(s1,s2,s3,s4) = Zygote.forwarddiff(s1 -> f(s1,s2,s3,s4), s1);\n",
    "#ddf(s1,s2,s3,s4) = Zygote.forwarddiff(s1 -> df(s1,s2,s3,s4), s1);\n",
    "df(s1,s2,s3,s4) = ForwardDiff.derivative(s1 -> f(s1,s2,s3,s4), s1);\n",
    "ddf(s1,s2,s3,s4) = ForwardDiff.derivative(s1 -> df(s1,s2,s3,s4), s1);\n",
    "h__(s1,s2,s3,s4) = s1*ddf(s1,s2,s3,s4)\n",
    "g_(s1,s2,s3,s4) = s1*(df(s1,s2,s3,s4)-h__(s1,s2,s3,s4))\n",
    "h_(s1,s2,s3,s4) = 0.5*s1^2*ddf(s1,s2,s3,s4)\n",
    "l(s1,s2,s3,s4) = f(s1,s2,s3,s4) - g_(s1,s2,s3,s4) - h_(s1,s2,s3,s4)\n",
    "s_3, s_4 = rand(z3), rand(z4)\n",
    "println(l(-5,1,s_3,s_4))\n",
    "println(l(2,1,s_3,s_4))\n",
    "g(s1,s2,s3,s4) = mean(s1)*(df(s1,s2,s3,s4)-h__(s1,s2,s3,s4))\n",
    "h(s1,s2,s3,s4) = 0.5*(mean(s1)^2+var(s1))*ddf(s1,s2,s3,s4)\n",
    "g_new(s2,s3,s4) = g(1e-15,s2,s3,s4)\n",
    "h_new(s2,s3,s4) = h(1e-15,s2,s3,s4)\n",
    "f_new(s2,s3,s4) = l(1e-15,s2,s3,s4) + g_new(s2,s3,s4) + h_new(s2,s3,s4)"
   ]
  },
  {
   "cell_type": "code",
   "execution_count": 35,
   "metadata": {},
   "outputs": [
    {
     "data": {
      "text/plain": [
       "4.000000000000001"
      ]
     },
     "execution_count": 35,
     "metadata": {},
     "output_type": "execute_result"
    }
   ],
   "source": [
    "df(1,2,2,3)"
   ]
  },
  {
   "cell_type": "code",
   "execution_count": 3,
   "metadata": {},
   "outputs": [
    {
     "data": {
      "text/plain": [
       "#90 (generic function with 1 method)"
      ]
     },
     "execution_count": 3,
     "metadata": {},
     "output_type": "execute_result"
    }
   ],
   "source": [
    "g = message(f,[z1,nothing,z3,z4])"
   ]
  },
  {
   "cell_type": "code",
   "execution_count": 4,
   "metadata": {},
   "outputs": [
    {
     "data": {
      "text/plain": [
       "-1.4189385332046704"
      ]
     },
     "execution_count": 4,
     "metadata": {},
     "output_type": "execute_result"
    }
   ],
   "source": [
    "g(1,1,1)"
   ]
  },
  {
   "cell_type": "code",
   "execution_count": 5,
   "metadata": {},
   "outputs": [
    {
     "name": "stdout",
     "output_type": "stream",
     "text": [
      "-1368.304041585266\n",
      "-2.4142630515044523\n"
     ]
    },
    {
     "data": {
      "text/plain": [
       "(::Main.BayesianUtilities.var\"#l#81\"{typeof(f),Main.BayesianUtilities.var\"#g_#79\"{Main.BayesianUtilities.var\"#df#74\"{typeof(f)},Main.BayesianUtilities.var\"#h__#78\"{Main.BayesianUtilities.var\"#ddf#76\"{Main.BayesianUtilities.var\"#df#74\"{typeof(f)}}}},Main.BayesianUtilities.var\"#h_#80\"{Main.BayesianUtilities.var\"#ddf#76\"{Main.BayesianUtilities.var\"#df#74\"{typeof(f)}}}}) (generic function with 1 method)"
      ]
     },
     "execution_count": 5,
     "metadata": {},
     "output_type": "execute_result"
    }
   ],
   "source": [
    "l = message(f,z1,nothing,z3,z4)"
   ]
  },
  {
   "cell_type": "code",
   "execution_count": 6,
   "metadata": {},
   "outputs": [
    {
     "data": {
      "text/plain": [
       "-15.819804555680891"
      ]
     },
     "execution_count": 6,
     "metadata": {},
     "output_type": "execute_result"
    }
   ],
   "source": [
    "l(1,2,3)"
   ]
  },
  {
   "cell_type": "code",
   "execution_count": 12,
   "metadata": {},
   "outputs": [
    {
     "ename": "LoadError",
     "evalue": "UndefVarError: i not defined",
     "output_type": "error",
     "traceback": [
      "UndefVarError: i not defined",
      "",
      "Stacktrace:",
      " [1] top-level scope at In[12]:1",
      " [2] include_string(::Function, ::Module, ::String, ::String) at ./loading.jl:1091"
     ]
    }
   ],
   "source": [
    "@eval [$(Symbol(\"s_$i\")) for $i=1:5]"
   ]
  },
  {
   "cell_type": "code",
   "execution_count": 14,
   "metadata": {},
   "outputs": [
    {
     "data": {
      "text/plain": [
       ":(f(1, x, y, z))"
      ]
     },
     "execution_count": 14,
     "metadata": {},
     "output_type": "execute_result"
    }
   ],
   "source": [
    "args = [:x, :y, :z];\n",
    ":(f(1, $(args...)))"
   ]
  },
  {
   "cell_type": "code",
   "execution_count": 18,
   "metadata": {},
   "outputs": [
    {
     "ename": "LoadError",
     "evalue": "syntax: \"$(args...)\" is not a valid function argument name around In[18]:1",
     "output_type": "error",
     "traceback": [
      "syntax: \"$(args...)\" is not a valid function argument name around In[18]:1",
      "",
      "Stacktrace:",
      " [1] top-level scope at In[18]:1",
      " [2] include_string(::Function, ::Module, ::String, ::String) at ./loading.jl:1091"
     ]
    }
   ],
   "source": [
    "g($(args...)) = eval(:(f(1, $(args...))))"
   ]
  },
  {
   "cell_type": "code",
   "execution_count": 17,
   "metadata": {},
   "outputs": [
    {
     "ename": "LoadError",
     "evalue": "UndefVarError: x not defined",
     "output_type": "error",
     "traceback": [
      "UndefVarError: x not defined",
      "",
      "Stacktrace:",
      " [1] top-level scope at none:1",
      " [2] eval at ./boot.jl:331 [inlined]",
      " [3] eval(::Expr) at ./client.jl:467",
      " [4] g(::Int64, ::Int64, ::Int64) at ./In[16]:1",
      " [5] top-level scope at In[17]:1",
      " [6] include_string(::Function, ::Module, ::String, ::String) at ./loading.jl:1091"
     ]
    }
   ],
   "source": [
    "g(1,2,3)"
   ]
  },
  {
   "cell_type": "code",
   "execution_count": 2,
   "metadata": {},
   "outputs": [
    {
     "data": {
      "text/plain": [
       "DiscreteNonParametric{Int64,Float64,Base.OneTo{Int64},Array{Float64,1}}(\n",
       "support: Base.OneTo(2)\n",
       "p: [0.011619242357096736, 8.674761447897611e-6]\n",
       ")\n"
      ]
     },
     "execution_count": 2,
     "metadata": {},
     "output_type": "execute_result"
    }
   ],
   "source": [
    "p1 = MvNormal([1,1],diagm(0=>ones(2)))\n",
    "p2 = MvNormal([-1,-1],diagm(0=>ones(2)))\n",
    "W1 = Wishart(2,diagm(0=>ones(2)))\n",
    "W2 = Wishart(2,diagm(0=>ones(2)))\n",
    "m_z = normalmix([1,0.8],nothing,[p1,p2],[W1,W2])"
   ]
  },
  {
   "cell_type": "code",
   "execution_count": 3,
   "metadata": {},
   "outputs": [
    {
     "data": {
      "text/plain": [
       "DiscreteNonParametric{Int64,Float64,Base.OneTo{Int64},Array{Float64,1}}(\n",
       "support: Base.OneTo(2)\n",
       "p: [0.9992539711661633, 0.0007460288338366962]\n",
       ")\n"
      ]
     },
     "execution_count": 3,
     "metadata": {},
     "output_type": "execute_result"
    }
   ],
   "source": [
    "pz = collide(Categorical(2), m_z)"
   ]
  },
  {
   "cell_type": "code",
   "execution_count": 4,
   "metadata": {},
   "outputs": [
    {
     "data": {
      "text/plain": [
       "2-element Array{MvNormal,1}:\n",
       " FullNormal(\n",
       "dim: 2\n",
       "μ: [1.0, 0.8]\n",
       "Σ: [0.49962698558308166 0.0; 0.0 0.49962698558308166]\n",
       ")\n",
       "\n",
       " FullNormal(\n",
       "dim: 2\n",
       "μ: [1.0, 0.8]\n",
       "Σ: [0.0003730144169183481 0.0; 0.0 0.0003730144169183481]\n",
       ")\n"
      ]
     },
     "execution_count": 4,
     "metadata": {},
     "output_type": "execute_result"
    }
   ],
   "source": [
    "normalmix([1,0.8],pz,nothing,[W1,W2])"
   ]
  },
  {
   "cell_type": "code",
   "execution_count": 5,
   "metadata": {},
   "outputs": [
    {
     "name": "stdout",
     "output_type": "stream",
     "text": [
      "[[-0.49962698558308166, 0.0, 0.0, -0.519612065006405, 0.49962698558308166], [-0.0018650720845917405, -0.0013428519009060533, -0.0013428519009060533, -0.001581581127733796, 0.0003730144169183481]]\n"
     ]
    },
    {
     "data": {
      "text/plain": [
       "2-element Array{Wishart{Float64,PDMats.PDMat{Float64,Array{Float64,2}},Int64},1}:\n",
       " Wishart{Float64,PDMats.PDMat{Float64,Array{Float64,2}},Int64}(\n",
       "df: 2.0\n",
       "S: [1.0007465858083766 0.0; 0.0 0.9622563325080543]\n",
       ")\n",
       "\n",
       " Wishart{Float64,PDMats.PDMat{Float64,Array{Float64,2}},Int64}(\n",
       "df: 2.0\n",
       "S: [689.7362185718857 -585.6250912402803; -585.6250912402803 813.3681822781671]\n",
       ")\n"
      ]
     },
     "execution_count": 5,
     "metadata": {},
     "output_type": "execute_result"
    }
   ],
   "source": [
    "normalmix([1,0.8],pz,[p1,p2],nothing)"
   ]
  },
  {
   "cell_type": "code",
   "execution_count": 2,
   "metadata": {},
   "outputs": [
    {
     "data": {
      "text/plain": [
       "Canonical(Normal, [0, -1])"
      ]
     },
     "execution_count": 2,
     "metadata": {},
     "output_type": "execute_result"
    }
   ],
   "source": [
    "c = Canonical(Normal,[0,-1])"
   ]
  },
  {
   "cell_type": "code",
   "execution_count": 3,
   "metadata": {},
   "outputs": [
    {
     "data": {
      "text/plain": [
       "2-element Array{Int64,1}:\n",
       "  0\n",
       " -1"
      ]
     },
     "execution_count": 3,
     "metadata": {},
     "output_type": "execute_result"
    }
   ],
   "source": [
    "c.η"
   ]
  },
  {
   "cell_type": "code",
   "execution_count": 4,
   "metadata": {},
   "outputs": [
    {
     "data": {
      "text/plain": [
       "Normal"
      ]
     },
     "execution_count": 4,
     "metadata": {},
     "output_type": "execute_result"
    }
   ],
   "source": [
    "c.dist"
   ]
  },
  {
   "cell_type": "code",
   "execution_count": 5,
   "metadata": {},
   "outputs": [
    {
     "ename": "LoadError",
     "evalue": "TypeError: in typeassert, expected Distribution, got a value of type Canonical",
     "output_type": "error",
     "traceback": [
      "TypeError: in typeassert, expected Distribution, got a value of type Canonical",
      "",
      "Stacktrace:",
      " [1] top-level scope at In[5]:1",
      " [2] include_string(::Function, ::Module, ::String, ::String) at ./loading.jl:1091"
     ]
    }
   ],
   "source": [
    "c::Distribution"
   ]
  },
  {
   "cell_type": "code",
   "execution_count": 6,
   "metadata": {},
   "outputs": [
    {
     "data": {
      "text/plain": [
       "true"
      ]
     },
     "execution_count": 6,
     "metadata": {},
     "output_type": "execute_result"
    }
   ],
   "source": [
    "Normal{Float64}<:Normal"
   ]
  },
  {
   "cell_type": "code",
   "execution_count": 7,
   "metadata": {},
   "outputs": [
    {
     "data": {
      "text/plain": [
       "Canonical(Normal, [0, -2])"
      ]
     },
     "execution_count": 7,
     "metadata": {},
     "output_type": "execute_result"
    }
   ],
   "source": [
    "collide(c,c)"
   ]
  },
  {
   "cell_type": "code",
   "execution_count": 8,
   "metadata": {},
   "outputs": [
    {
     "data": {
      "text/plain": [
       "Normal{Float64}(μ=1.7, σ=1.0)"
      ]
     },
     "execution_count": 8,
     "metadata": {},
     "output_type": "execute_result"
    }
   ],
   "source": [
    "2\\Normal(3.4,sqrt(4))"
   ]
  },
  {
   "cell_type": "code",
   "execution_count": 9,
   "metadata": {},
   "outputs": [
    {
     "data": {
      "text/plain": [
       "FullNormal(\n",
       "dim: 2\n",
       "μ: [1.3, -1.5]\n",
       "Σ: [2.5 1.9; 1.9 2.5]\n",
       ")\n"
      ]
     },
     "execution_count": 9,
     "metadata": {},
     "output_type": "execute_result"
    }
   ],
   "source": [
    "p = MvNormal([1.3,-1.5],[2.5 1.9;1.9 2.5])"
   ]
  },
  {
   "cell_type": "code",
   "execution_count": 10,
   "metadata": {},
   "outputs": [
    {
     "data": {
      "text/plain": [
       "2×2 Array{Int64,2}:\n",
       " 1  1\n",
       " 0  1"
      ]
     },
     "execution_count": 10,
     "metadata": {},
     "output_type": "execute_result"
    }
   ],
   "source": [
    "A = [1 1; 0 1]"
   ]
  },
  {
   "cell_type": "code",
   "execution_count": 11,
   "metadata": {},
   "outputs": [
    {
     "data": {
      "text/plain": [
       "FullNormal(\n",
       "dim: 2\n",
       "μ: [2.8, -1.5]\n",
       "Σ: [1.2000000000000002 -0.6000000000000001; -0.6000000000000001 2.5]\n",
       ")\n"
      ]
     },
     "execution_count": 11,
     "metadata": {},
     "output_type": "execute_result"
    }
   ],
   "source": [
    "A\\p"
   ]
  },
  {
   "cell_type": "code",
   "execution_count": 12,
   "metadata": {},
   "outputs": [
    {
     "name": "stdout",
     "output_type": "stream",
     "text": [
      "ξ = [2.3106060606060606, -0.04545454545454547, -2.356060606060606]\n",
      "W = [0.9469696969696969 0.2272727272727273 -0.7196969696969696; 0.2272727272727273 0.4545454545454546 0.2272727272727273; -0.7196969696969696 0.2272727272727273 0.9469696969696969]\n"
     ]
    },
    {
     "data": {
      "text/plain": [
       "Canonical(MvNormal, [2.3106060606060606, -0.04545454545454547, -2.356060606060606, -0.47348484848484845, -0.11363636363636365, 0.3598484848484848, -0.11363636363636365, -0.2272727272727273, -0.11363636363636365, 0.3598484848484848, -0.11363636363636365, -0.47348484848484845])"
      ]
     },
     "execution_count": 12,
     "metadata": {},
     "output_type": "execute_result"
    }
   ],
   "source": [
    "A = [1 1 0; 0 1 1]\n",
    "A\\p"
   ]
  },
  {
   "cell_type": "code",
   "execution_count": 13,
   "metadata": {},
   "outputs": [
    {
     "data": {
      "text/plain": [
       "FullNormal(\n",
       "dim: 3\n",
       "μ: [1.3, -1.5, 0.6]\n",
       "Σ: [2.5 1.9 1.4; 1.9 4.3 0.3; 1.4 0.3 2.2]\n",
       ")\n"
      ]
     },
     "execution_count": 13,
     "metadata": {},
     "output_type": "execute_result"
    }
   ],
   "source": [
    "p2 = MvNormal([1.3,-1.5,0.6],[2.5 1.9 1.4;1.9 4.3 0.3; 1.4 0.3 2.2])"
   ]
  },
  {
   "cell_type": "code",
   "execution_count": 14,
   "metadata": {},
   "outputs": [
    {
     "data": {
      "text/plain": [
       "FullNormal(\n",
       "dim: 2\n",
       "μ: [1.5542372881355933, -0.07627118644067743]\n",
       "Σ: [0.9237288135593222 -0.027118644067796578; -0.027118644067796578 1.588135593220339]\n",
       ")\n"
      ]
     },
     "execution_count": 14,
     "metadata": {},
     "output_type": "execute_result"
    }
   ],
   "source": [
    "A = [1 1; 0 1; 0 1]\n",
    "A\\p2"
   ]
  },
  {
   "cell_type": "code",
   "execution_count": 15,
   "metadata": {},
   "outputs": [
    {
     "data": {
      "text/plain": [
       "Normal{Float64}(μ=2.44, σ=1.056)"
      ]
     },
     "execution_count": 15,
     "metadata": {},
     "output_type": "execute_result"
    }
   ],
   "source": [
    "a = [1, 0]\n",
    "a\\p"
   ]
  },
  {
   "cell_type": "code",
   "execution_count": 16,
   "metadata": {},
   "outputs": [
    {
     "data": {
      "text/plain": [
       "Canonical(MvNormal, [0.85, 0.0, -0.125, -0.0, -0.0, -0.0])"
      ]
     },
     "execution_count": 16,
     "metadata": {},
     "output_type": "execute_result"
    }
   ],
   "source": [
    "a = [1 0]\n",
    "a \\ Normal(3.4,sqrt(4))"
   ]
  },
  {
   "cell_type": "code",
   "execution_count": 2,
   "metadata": {},
   "outputs": [
    {
     "data": {
      "text/plain": [
       "DiscreteNonParametric{Int64,Float64,Base.OneTo{Int64},Array{Float64,1}}(\n",
       "support: Base.OneTo(2)\n",
       "p: [0.002647551691759494, 0.11107536260545436]\n",
       ")\n"
      ]
     },
     "execution_count": 2,
     "metadata": {},
     "output_type": "execute_result"
    }
   ],
   "source": [
    "m1, m2 = Normal(0,2), Normal(2,1)\n",
    "w1, w2 = Gamma(2,0.5), Gamma(3,1)\n",
    "vmp = normalmix(2.4,nothing,[m1,m2],[w1,w2])"
   ]
  },
  {
   "cell_type": "code",
   "execution_count": 3,
   "metadata": {},
   "outputs": [
    {
     "data": {
      "text/plain": [
       "DiscreteNonParametric{Int64,Float64,Base.OneTo{Int64},Array{Float64,1}}(\n",
       "support: Base.OneTo(2)\n",
       "p: [0.023280723222060075, 0.9767192767779399]\n",
       ")\n"
      ]
     },
     "execution_count": 3,
     "metadata": {},
     "output_type": "execute_result"
    }
   ],
   "source": [
    "qz = collide(Categorical(0.5,0.5),vmp)"
   ]
  },
  {
   "cell_type": "code",
   "execution_count": 4,
   "metadata": {},
   "outputs": [
    {
     "data": {
      "text/plain": [
       "2-element Array{Normal{Float64},1}:\n",
       " Normal{Float64}(μ=2.4, σ=6.55392951148153)\n",
       " Normal{Float64}(μ=2.4, σ=0.5841905037515628)"
      ]
     },
     "execution_count": 4,
     "metadata": {},
     "output_type": "execute_result"
    }
   ],
   "source": [
    "vmp = normalmix(2.4,qz,nothing,[w1,w2])"
   ]
  },
  {
   "cell_type": "code",
   "execution_count": 5,
   "metadata": {},
   "outputs": [
    {
     "data": {
      "text/plain": [
       "2-element Array{Normal{Float64},1}:\n",
       " Normal{Float64}(μ=0.2044554591124335, σ=1.912914243106386)\n",
       " Normal{Float64}(μ=2.2982229169239177, σ=0.5044231434918559)"
      ]
     },
     "execution_count": 5,
     "metadata": {},
     "output_type": "execute_result"
    }
   ],
   "source": [
    "collide.(vmp,[m1,m2])"
   ]
  },
  {
   "cell_type": "code",
   "execution_count": 6,
   "metadata": {},
   "outputs": [
    {
     "data": {
      "text/plain": [
       "2-element Array{Gamma{Float64},1}:\n",
       " Gamma{Float64}(α=1.01164036161103, θ=0.11360992932365316)\n",
       " Gamma{Float64}(α=1.48835963838897, θ=0.5664971805312052)"
      ]
     },
     "execution_count": 6,
     "metadata": {},
     "output_type": "execute_result"
    }
   ],
   "source": [
    "vmp = normalmix(2.4,qz,[m1,m2],nothing)"
   ]
  },
  {
   "cell_type": "code",
   "execution_count": 8,
   "metadata": {},
   "outputs": [
    {
     "data": {
      "text/plain": [
       "2-element Array{Gamma{Float64},1}:\n",
       " Gamma{Float64}(α=2.01164036161103, θ=10.802047549481257)\n",
       " Gamma{Float64}(α=3.48835963838897, θ=2.7652338517595068)"
      ]
     },
     "execution_count": 8,
     "metadata": {},
     "output_type": "execute_result"
    }
   ],
   "source": [
    "collide.(vmp,[w1,w2])"
   ]
  },
  {
   "cell_type": "code",
   "execution_count": 2,
   "metadata": {},
   "outputs": [
    {
     "data": {
      "text/plain": [
       "Dirichlet{Float64}(\n",
       "alpha: [3.5, 4.5, 6.0]\n",
       ")\n"
      ]
     },
     "execution_count": 2,
     "metadata": {},
     "output_type": "execute_result"
    }
   ],
   "source": [
    "collide(Dirichlet([1.5, 4.5, 6]), categorical([1,0,0],nothing), categorical([1,0,0],nothing))"
   ]
  },
  {
   "cell_type": "code",
   "execution_count": 5,
   "metadata": {},
   "outputs": [
    {
     "data": {
      "text/plain": [
       "DiscreteNonParametric{Int64,Float64,Base.OneTo{Int64},Array{Float64,1}}(\n",
       "support: Base.OneTo(3)\n",
       "p: [0.1750843735769453, 0.3475756288047549, 0.4773399976182998]\n",
       ")\n"
      ]
     },
     "execution_count": 5,
     "metadata": {},
     "output_type": "execute_result"
    }
   ],
   "source": [
    "categorical(nothing,Dirichlet([2.5, 4.5, 6]))"
   ]
  },
  {
   "cell_type": "code",
   "execution_count": 50,
   "metadata": {},
   "outputs": [
    {
     "data": {
      "text/plain": [
       "Normal{Float64}(μ=2.1081851067789197, σ=1.2909944487358058)"
      ]
     },
     "execution_count": 50,
     "metadata": {},
     "output_type": "execute_result"
    }
   ],
   "source": [
    "collide(sqrt(1/0.2) * normal(0,nothing,1),sqrt(1/0.4) *normal(2,nothing,1))"
   ]
  },
  {
   "cell_type": "code",
   "execution_count": 6,
   "metadata": {},
   "outputs": [
    {
     "data": {
      "text/plain": [
       "Normal{Float64}(μ=1.0, σ=0.7071067811865476)"
      ]
     },
     "execution_count": 6,
     "metadata": {},
     "output_type": "execute_result"
    }
   ],
   "source": [
    "collide(Normal(0,1),Normal(2,1))"
   ]
  },
  {
   "cell_type": "code",
   "execution_count": 7,
   "metadata": {},
   "outputs": [
    {
     "data": {
      "text/plain": [
       "0.5000000000000001"
      ]
     },
     "execution_count": 7,
     "metadata": {},
     "output_type": "execute_result"
    }
   ],
   "source": [
    "0.7071067811865476^2"
   ]
  },
  {
   "cell_type": "code",
   "execution_count": 24,
   "metadata": {},
   "outputs": [
    {
     "data": {
      "text/plain": [
       "Normal{Float64}(μ=0.4, σ=0.8944271909999159)"
      ]
     },
     "execution_count": 24,
     "metadata": {},
     "output_type": "execute_result"
    }
   ],
   "source": [
    "collide(Normal(0,1),Normal(2,2))"
   ]
  },
  {
   "cell_type": "code",
   "execution_count": 38,
   "metadata": {},
   "outputs": [
    {
     "data": {
      "text/plain": [
       "Normal{Float64}(μ=1.3333333333333333, σ=1.2909944487358058)"
      ]
     },
     "execution_count": 38,
     "metadata": {},
     "output_type": "execute_result"
    }
   ],
   "source": [
    "collide(Normal(0,sqrt(1/0.2)),Normal(2,sqrt(1/0.4)))"
   ]
  },
  {
   "cell_type": "code",
   "execution_count": 43,
   "metadata": {},
   "outputs": [
    {
     "data": {
      "text/plain": [
       "Normal{Float64}(μ=1.3333333333333333, σ=1.0567244989431572)"
      ]
     },
     "execution_count": 43,
     "metadata": {},
     "output_type": "execute_result"
    }
   ],
   "source": [
    "collide(Normal(0,sqrt((2-1.33)/0.2)),Normal(2,sqrt((2-1.33)/0.4)))"
   ]
  },
  {
   "cell_type": "code",
   "execution_count": 40,
   "metadata": {},
   "outputs": [
    {
     "data": {
      "text/plain": [
       "Normal{Float64}(μ=1.3333333333333333, σ=1.8257418583505538)"
      ]
     },
     "execution_count": 40,
     "metadata": {},
     "output_type": "execute_result"
    }
   ],
   "source": [
    "collide(Normal(0,sqrt(2/0.2)),Normal(2,sqrt(2/0.4)))"
   ]
  },
  {
   "cell_type": "code",
   "execution_count": 11,
   "metadata": {},
   "outputs": [
    {
     "data": {
      "text/plain": [
       "Normal{Float64}(μ=1.1973753202249038, σ=0.9450592772566271)"
      ]
     },
     "execution_count": 11,
     "metadata": {},
     "output_type": "execute_result"
    }
   ],
   "source": [
    "collide(exp(0.2)*Normal(0,1),exp(0.4)*Normal(2,1))"
   ]
  },
  {
   "cell_type": "code",
   "execution_count": 12,
   "metadata": {},
   "outputs": [
    {
     "data": {
      "text/plain": [
       "1.3333333333333335"
      ]
     },
     "execution_count": 12,
     "metadata": {},
     "output_type": "execute_result"
    }
   ],
   "source": [
    "0.8/0.6"
   ]
  },
  {
   "cell_type": "code",
   "execution_count": 36,
   "metadata": {},
   "outputs": [
    {
     "data": {
      "text/plain": [
       "1.1527792503337315"
      ]
     },
     "execution_count": 36,
     "metadata": {},
     "output_type": "execute_result"
    }
   ],
   "source": [
    "sqrt((0.4*(0-1.33)^2 + 0.2*(2-1.33)^2)/0.6)"
   ]
  },
  {
   "cell_type": "code",
   "execution_count": 21,
   "metadata": {},
   "outputs": [
    {
     "data": {
      "text/plain": [
       "MixtureModel{Normal}(K = 3)\n",
       "components[1] (prior = 0.2000): Normal{Float64}(μ=-2.0, σ=1.2)\n",
       "components[2] (prior = 0.5000): Normal{Float64}(μ=0.0, σ=1.0)\n",
       "components[3] (prior = 0.3000): Normal{Float64}(μ=3.0, σ=2.5)\n"
      ]
     },
     "execution_count": 21,
     "metadata": {},
     "output_type": "execute_result"
    }
   ],
   "source": [
    "mm = MixtureModel(Normal[\n",
    "   Normal(-2.0, 1.2),\n",
    "   Normal(0.0, 1.0),\n",
    "   Normal(3.0, 2.5)], [0.2, 0.5, 0.3])"
   ]
  },
  {
   "cell_type": "code",
   "execution_count": 22,
   "metadata": {},
   "outputs": [
    {
     "data": {
      "text/plain": [
       "0.4999999999999999"
      ]
     },
     "execution_count": 22,
     "metadata": {},
     "output_type": "execute_result"
    }
   ],
   "source": [
    "mean(mm)"
   ]
  },
  {
   "cell_type": "code",
   "execution_count": 23,
   "metadata": {},
   "outputs": [
    {
     "data": {
      "text/plain": [
       "5.913"
      ]
     },
     "execution_count": 23,
     "metadata": {},
     "output_type": "execute_result"
    }
   ],
   "source": [
    "var(mm)"
   ]
  },
  {
   "cell_type": "code",
   "execution_count": 20,
   "metadata": {},
   "outputs": [
    {
     "ename": "LoadError",
     "evalue": "ArgumentError: Categorical: the condition isprobvec(p) is not satisfied.",
     "output_type": "error",
     "traceback": [
      "ArgumentError: Categorical: the condition isprobvec(p) is not satisfied.",
      "",
      "Stacktrace:",
      " [1] macro expansion at /Users/sakbayrak/.julia/packages/Distributions/nAJyo/src/utils.jl:6 [inlined]",
      " [2] #_#37 at /Users/sakbayrak/.julia/packages/Distributions/nAJyo/src/univariate/discrete/categorical.jl:30 [inlined]",
      " [3] #Categorical#38 at /Users/sakbayrak/.julia/packages/Distributions/nAJyo/src/univariate/discrete/categorical.jl:34 [inlined]",
      " [4] DiscreteNonParametric at /Users/sakbayrak/.julia/packages/Distributions/nAJyo/src/univariate/discrete/categorical.jl:34 [inlined]",
      " [5] MixtureModel(::Array{Normal,1}, ::Array{Float64,1}) at /Users/sakbayrak/.julia/packages/Distributions/nAJyo/src/mixtures/mixturemodel.jl:138",
      " [6] top-level scope at In[20]:1",
      " [7] include_string(::Function, ::Module, ::String, ::String) at ./loading.jl:1091"
     ]
    }
   ],
   "source": [
    "mm = MixtureModel(Normal[\n",
    "   Normal(-2.0, 1.2),\n",
    "   Normal(0.0, 1.0),\n",
    "   Normal(3.0, 2.5)], [0.2, 0.8, 0.3])"
   ]
  },
  {
   "cell_type": "code",
   "execution_count": 3,
   "metadata": {},
   "outputs": [
    {
     "data": {
      "text/plain": [
       "DiscreteNonParametric{Int64,Float64,Base.OneTo{Int64},Array{Float64,1}}(\n",
       "support: Base.OneTo(2)\n",
       "p: [0.002647551691759494, 0.11107536260545436]\n",
       ")\n"
      ]
     },
     "execution_count": 3,
     "metadata": {},
     "output_type": "execute_result"
    }
   ],
   "source": [
    "m1, m2 = Normal(0,2), Normal(2,1)\n",
    "w1, w2 = Gamma(2,0.5), Gamma(3,1)\n",
    "vmp = normalmix(2.4,nothing,[m1,m2],[w1,w2])"
   ]
  },
  {
   "cell_type": "code",
   "execution_count": 4,
   "metadata": {},
   "outputs": [
    {
     "data": {
      "text/plain": [
       "DiscreteNonParametric{Int64,Float64,Base.OneTo{Int64},Array{Float64,1}}(\n",
       "support: Base.OneTo(2)\n",
       "p: [0.023280723222060075, 0.9767192767779399]\n",
       ")\n"
      ]
     },
     "execution_count": 4,
     "metadata": {},
     "output_type": "execute_result"
    }
   ],
   "source": [
    "collide(Categorical(0.5,0.5),vmp)"
   ]
  },
  {
   "cell_type": "code",
   "execution_count": 5,
   "metadata": {},
   "outputs": [
    {
     "data": {
      "text/plain": [
       "3-element Array{Float64,1}:\n",
       " 0.125\n",
       " 0.375\n",
       " 0.5"
      ]
     },
     "execution_count": 5,
     "metadata": {},
     "output_type": "execute_result"
    }
   ],
   "source": [
    "d = Dirichlet([1.5, 4.5, 6])\n",
    "mean(d)"
   ]
  },
  {
   "cell_type": "code",
   "execution_count": 6,
   "metadata": {},
   "outputs": [
    {
     "data": {
      "text/plain": [
       "DiscreteNonParametric{Int64,Float64,Base.OneTo{Int64},Array{Float64,1}}(\n",
       "support: Base.OneTo(3)\n",
       "p: [0.125, 0.375, 0.5]\n",
       ")\n"
      ]
     },
     "execution_count": 6,
     "metadata": {},
     "output_type": "execute_result"
    }
   ],
   "source": [
    "Categorical(mean(d))"
   ]
  },
  {
   "cell_type": "code",
   "execution_count": 10,
   "metadata": {},
   "outputs": [
    {
     "data": {
      "text/plain": [
       "DiscreteNonParametric{Int64,Float64,Base.OneTo{Int64},Array{Float64,1}}(\n",
       "support: Base.OneTo(3)\n",
       "p: [0.2, 0.5, 0.7]\n",
       ")\n"
      ]
     },
     "execution_count": 10,
     "metadata": {},
     "output_type": "execute_result"
    }
   ],
   "source": [
    "c = Categorical([0.2,0.5,0.7],check_args=false)"
   ]
  },
  {
   "cell_type": "code",
   "execution_count": 12,
   "metadata": {},
   "outputs": [
    {
     "data": {
      "text/plain": [
       "3-element Array{Float64,1}:\n",
       " 0.2\n",
       " 0.5\n",
       " 0.7"
      ]
     },
     "execution_count": 12,
     "metadata": {},
     "output_type": "execute_result"
    }
   ],
   "source": [
    "c.p"
   ]
  },
  {
   "cell_type": "code",
   "execution_count": 2,
   "metadata": {},
   "outputs": [
    {
     "data": {
      "text/plain": [
       "Gamma{Float64}(α=5.0, θ=1.0)"
      ]
     },
     "execution_count": 2,
     "metadata": {},
     "output_type": "execute_result"
    }
   ],
   "source": [
    "poisson(4, nothing)"
   ]
  },
  {
   "cell_type": "code",
   "execution_count": 3,
   "metadata": {},
   "outputs": [
    {
     "data": {
      "text/plain": [
       "Gamma{Float64}(α=7.2, θ=1.1818181818181819)"
      ]
     },
     "execution_count": 3,
     "metadata": {},
     "output_type": "execute_result"
    }
   ],
   "source": [
    "collide(Gamma(3.2,5.5),poisson(4, nothing))"
   ]
  },
  {
   "cell_type": "code",
   "execution_count": 4,
   "metadata": {},
   "outputs": [
    {
     "data": {
      "text/plain": [
       "Gamma{Float64}(α=1.5, θ=0.40499999999999936)"
      ]
     },
     "execution_count": 4,
     "metadata": {},
     "output_type": "execute_result"
    }
   ],
   "source": [
    "normal(3.4, 2.5, nothing)"
   ]
  },
  {
   "cell_type": "code",
   "execution_count": 5,
   "metadata": {},
   "outputs": [
    {
     "data": {
      "text/plain": [
       "Gamma{Float64}(α=1.5, θ=0.5)"
      ]
     },
     "execution_count": 5,
     "metadata": {},
     "output_type": "execute_result"
    }
   ],
   "source": [
    "normal(3, 2, nothing)"
   ]
  },
  {
   "cell_type": "code",
   "execution_count": 6,
   "metadata": {},
   "outputs": [
    {
     "data": {
      "text/plain": [
       "Normal{Float64}(μ=3.4, σ=1.0)"
      ]
     },
     "execution_count": 6,
     "metadata": {},
     "output_type": "execute_result"
    }
   ],
   "source": [
    "normal(3.4, nothing, 1)"
   ]
  },
  {
   "cell_type": "code",
   "execution_count": 7,
   "metadata": {},
   "outputs": [
    {
     "data": {
      "text/plain": [
       "17.6"
      ]
     },
     "execution_count": 7,
     "metadata": {},
     "output_type": "execute_result"
    }
   ],
   "source": [
    "mean(Gamma(3.2,5.5))"
   ]
  },
  {
   "cell_type": "code",
   "execution_count": 8,
   "metadata": {},
   "outputs": [
    {
     "data": {
      "text/plain": [
       "Normal{Float64}(μ=3.3999999999999995, σ=0.21873931962990356)"
      ]
     },
     "execution_count": 8,
     "metadata": {},
     "output_type": "execute_result"
    }
   ],
   "source": [
    "normal(3.4, nothing, Gamma(3.8,5.5))"
   ]
  },
  {
   "cell_type": "code",
   "execution_count": 9,
   "metadata": {},
   "outputs": [
    {
     "data": {
      "text/plain": [
       "Normal{Float64}(μ=3.0, σ=0.21873931962990356)"
      ]
     },
     "execution_count": 9,
     "metadata": {},
     "output_type": "execute_result"
    }
   ],
   "source": [
    "normal(3, nothing, Gamma(3.8,5.5))"
   ]
  },
  {
   "cell_type": "code",
   "execution_count": 12,
   "metadata": {},
   "outputs": [
    {
     "data": {
      "text/plain": [
       "Gamma{Float64}(α=1.5, θ=8.98)"
      ]
     },
     "execution_count": 12,
     "metadata": {},
     "output_type": "execute_result"
    }
   ],
   "source": [
    "a = 2\n",
    "x = Normal(1,2)\n",
    "normal(3.4, a*x, nothing)"
   ]
  },
  {
   "cell_type": "code",
   "execution_count": 10,
   "metadata": {},
   "outputs": [
    {
     "name": "stdout",
     "output_type": "stream",
     "text": [
      "Expr\n",
      "  head: Symbol call\n",
      "  args: Array{Any}((2,))\n",
      "    1: Symbol mean\n",
      "    2: Expr\n",
      "      head: Symbol call\n",
      "      args: Array{Any}((3,))\n",
      "        1: Symbol ^\n",
      "        2: Symbol x\n",
      "        3: Int64 2\n"
     ]
    }
   ],
   "source": [
    "dump(:(mean(x^2)))"
   ]
  },
  {
   "cell_type": "code",
   "execution_count": 11,
   "metadata": {},
   "outputs": [
    {
     "data": {
      "text/plain": [
       "f (generic function with 1 method)"
      ]
     },
     "execution_count": 11,
     "metadata": {},
     "output_type": "execute_result"
    }
   ],
   "source": [
    "function f(op, op1, op2)\n",
    "    expr = Expr(:call, op, op1, op2)\n",
    "    return expr\n",
    "end"
   ]
  },
  {
   "cell_type": "code",
   "execution_count": 12,
   "metadata": {},
   "outputs": [
    {
     "data": {
      "text/plain": [
       ":(x ^ 2)"
      ]
     },
     "execution_count": 12,
     "metadata": {},
     "output_type": "execute_result"
    }
   ],
   "source": [
    "f(:^,:x,2)"
   ]
  },
  {
   "cell_type": "code",
   "execution_count": 22,
   "metadata": {},
   "outputs": [
    {
     "data": {
      "text/plain": [
       ":((x ^ 2)())"
      ]
     },
     "execution_count": 22,
     "metadata": {},
     "output_type": "execute_result"
    }
   ],
   "source": [
    "function f(op)\n",
    "    expr = Expr(:call, op)\n",
    "    return expr\n",
    "end\n",
    "\n",
    "expr = f(:(x^2))"
   ]
  },
  {
   "cell_type": "code",
   "execution_count": 23,
   "metadata": {},
   "outputs": [
    {
     "name": "stdout",
     "output_type": "stream",
     "text": [
      "Expr\n",
      "  head: Symbol call\n",
      "  args: Array{Any}((1,))\n",
      "    1: Expr\n",
      "      head: Symbol call\n",
      "      args: Array{Any}((3,))\n",
      "        1: Symbol ^\n",
      "        2: Symbol x\n",
      "        3: Int64 2\n"
     ]
    }
   ],
   "source": [
    "dump(expr)"
   ]
  },
  {
   "cell_type": "code",
   "execution_count": 27,
   "metadata": {},
   "outputs": [
    {
     "data": {
      "text/plain": [
       "1-element Array{Any,1}:\n",
       " :(x ^ 2)"
      ]
     },
     "execution_count": 27,
     "metadata": {},
     "output_type": "execute_result"
    }
   ],
   "source": [
    "expr.args"
   ]
  },
  {
   "cell_type": "code",
   "execution_count": 30,
   "metadata": {},
   "outputs": [
    {
     "name": "stdout",
     "output_type": "stream",
     "text": [
      "Array{Any}((1,))\n",
      "  1: Expr\n",
      "    head: Symbol call\n",
      "    args: Array{Any}((3,))\n",
      "      1: Symbol ^\n",
      "      2: Symbol x\n",
      "      3: Int64 2\n"
     ]
    }
   ],
   "source": [
    "dump(expr.args)"
   ]
  },
  {
   "cell_type": "code",
   "execution_count": 20,
   "metadata": {},
   "outputs": [
    {
     "ename": "LoadError",
     "evalue": "MethodError: no method matching canonform(::Gamma{Float64})\nClosest candidates are:\n  canonform(!Matched::Normal) at /Users/sakbayrak/.julia/packages/Distributions/nAJyo/src/univariate/continuous/normalcanon.jl:32\n  canonform(!Matched::MvNormal{T,C,FillArrays.Zeros{T,N,Axes} where Axes where N}) where {C, T<:Real} at /Users/sakbayrak/.julia/packages/Distributions/nAJyo/src/multivariate/mvnormalcanon.jl:152\n  canonform(!Matched::MvNormal{T,C,var\"#s259\"} where var\"#s259\"<:AbstractArray{T,1}) where {C, T<:Real} at /Users/sakbayrak/.julia/packages/Distributions/nAJyo/src/multivariate/mvnormalcanon.jl:148",
     "output_type": "error",
     "traceback": [
      "MethodError: no method matching canonform(::Gamma{Float64})\nClosest candidates are:\n  canonform(!Matched::Normal) at /Users/sakbayrak/.julia/packages/Distributions/nAJyo/src/univariate/continuous/normalcanon.jl:32\n  canonform(!Matched::MvNormal{T,C,FillArrays.Zeros{T,N,Axes} where Axes where N}) where {C, T<:Real} at /Users/sakbayrak/.julia/packages/Distributions/nAJyo/src/multivariate/mvnormalcanon.jl:152\n  canonform(!Matched::MvNormal{T,C,var\"#s259\"} where var\"#s259\"<:AbstractArray{T,1}) where {C, T<:Real} at /Users/sakbayrak/.julia/packages/Distributions/nAJyo/src/multivariate/mvnormalcanon.jl:148",
      "",
      "Stacktrace:",
      " [1] top-level scope at In[20]:1",
      " [2] include_string(::Function, ::Module, ::String, ::String) at ./loading.jl:1091"
     ]
    }
   ],
   "source": [
    "canonform(Gamma(3,4))"
   ]
  },
  {
   "cell_type": "code",
   "execution_count": 22,
   "metadata": {},
   "outputs": [
    {
     "data": {
      "text/plain": [
       "-3.721884091117499e-5 - 0.00020645392977038888im"
      ]
     },
     "execution_count": 22,
     "metadata": {},
     "output_type": "execute_result"
    }
   ],
   "source": [
    "cf(Gamma(3,4),4.2)"
   ]
  },
  {
   "cell_type": "code",
   "execution_count": 25,
   "metadata": {},
   "outputs": [
    {
     "data": {
      "text/plain": [
       "-0.0002962962962962963"
      ]
     },
     "execution_count": 25,
     "metadata": {},
     "output_type": "execute_result"
    }
   ],
   "source": [
    "mgf(Gamma(3,4),4)"
   ]
  },
  {
   "cell_type": "code",
   "execution_count": 11,
   "metadata": {},
   "outputs": [
    {
     "data": {
      "text/plain": [
       "NormalCanon{Float64}(η=0.0, λ=1.0, μ=0.0)"
      ]
     },
     "execution_count": 11,
     "metadata": {},
     "output_type": "execute_result"
    }
   ],
   "source": [
    "canonform(Normal())"
   ]
  },
  {
   "cell_type": "code",
   "execution_count": 14,
   "metadata": {},
   "outputs": [
    {
     "data": {
      "text/plain": [
       "Gamma{Float64}(α=5.0, θ=4.0)"
      ]
     },
     "execution_count": 14,
     "metadata": {},
     "output_type": "execute_result"
    }
   ],
   "source": [
    "convolve(Gamma(3,4),Gamma(2,4))"
   ]
  },
  {
   "cell_type": "code",
   "execution_count": 19,
   "metadata": {},
   "outputs": [
    {
     "data": {
      "text/plain": [
       "Normal{Float64}(μ=5.0, σ=2.0)"
      ]
     },
     "execution_count": 19,
     "metadata": {},
     "output_type": "execute_result"
    }
   ],
   "source": [
    "convolve(Normal(5,sqrt(3)),Normal())"
   ]
  },
  {
   "cell_type": "code",
   "execution_count": 11,
   "metadata": {},
   "outputs": [
    {
     "data": {
      "text/plain": [
       "f (generic function with 1 method)"
      ]
     },
     "execution_count": 11,
     "metadata": {},
     "output_type": "execute_result"
    }
   ],
   "source": [
    "f(x,-) = x^2"
   ]
  },
  {
   "cell_type": "code",
   "execution_count": 12,
   "metadata": {},
   "outputs": [
    {
     "ename": "LoadError",
     "evalue": "MethodError: no method matching f(::Int64)\nClosest candidates are:\n  f(::Any, !Matched::Any) at In[11]:1",
     "output_type": "error",
     "traceback": [
      "MethodError: no method matching f(::Int64)\nClosest candidates are:\n  f(::Any, !Matched::Any) at In[11]:1",
      "",
      "Stacktrace:",
      " [1] top-level scope at In[12]:1",
      " [2] include_string(::Function, ::Module, ::String, ::String) at ./loading.jl:1091"
     ]
    }
   ],
   "source": [
    "f(3)"
   ]
  },
  {
   "cell_type": "code",
   "execution_count": 45,
   "metadata": {},
   "outputs": [
    {
     "ename": "ArgumentError",
     "evalue": "ArgumentError: InverseGamma: the condition α > zero(α) && θ > zero(θ) is not satisfied.",
     "output_type": "error",
     "traceback": [
      "ArgumentError: InverseGamma: the condition α > zero(α) && θ > zero(θ) is not satisfied.",
      "",
      "Stacktrace:",
      " [1] macro expansion at /Users/sakbayrak/.julia/packages/Distributions/nAJyo/src/utils.jl:6 [inlined]",
      " [2] #InverseGamma#93 at /Users/sakbayrak/.julia/packages/Distributions/nAJyo/src/univariate/continuous/inversegamma.jl:35 [inlined]",
      " [3] InverseGamma at /Users/sakbayrak/.julia/packages/Distributions/nAJyo/src/univariate/continuous/inversegamma.jl:35 [inlined]",
      " [4] convert at /Users/sakbayrak/.julia/packages/Distributions/nAJyo/src/univariate/continuous/inversegamma.jl:48 [inlined]",
      " [5] Fix2 at ./operators.jl:926 [inlined]",
      " [6] isequal at ./operators.jl:941 [inlined]",
      " [7] undisplay(::InverseGamma{Float64}) at /Users/sakbayrak/.julia/packages/IJulia/IDNmS/src/display.jl:131",
      " [8] execute_request(::ZMQ.Socket, ::IJulia.Msg) at /Users/sakbayrak/.julia/packages/IJulia/IDNmS/src/execute_request.jl:107",
      " [9] #invokelatest#1 at ./essentials.jl:710 [inlined]",
      " [10] invokelatest at ./essentials.jl:709 [inlined]",
      " [11] eventloop(::ZMQ.Socket) at /Users/sakbayrak/.julia/packages/IJulia/IDNmS/src/eventloop.jl:8",
      " [12] (::IJulia.var\"#15#18\")() at ./task.jl:356"
     ]
    }
   ],
   "source": [
    "InverseGamma(-1.5,-3.2,check_args=false)"
   ]
  },
  {
   "cell_type": "code",
   "execution_count": 44,
   "metadata": {},
   "outputs": [
    {
     "data": {
      "text/plain": [
       "Gamma{Float64}(α=-1.5, θ=-3.2)"
      ]
     },
     "execution_count": 44,
     "metadata": {},
     "output_type": "execute_result"
    }
   ],
   "source": [
    "Gamma(-1.5,-3.2,check_args=false)"
   ]
  },
  {
   "cell_type": "code",
   "execution_count": 35,
   "metadata": {},
   "outputs": [
    {
     "data": {
      "text/plain": [
       "InverseGamma{Float64}(invd=Gamma{Float64}(α=0.5, θ=0.3125), θ=3.2)"
      ]
     },
     "execution_count": 35,
     "metadata": {},
     "output_type": "execute_result"
    }
   ],
   "source": [
    "InverseGamma(0.5,3.2)"
   ]
  },
  {
   "cell_type": "code",
   "execution_count": 2,
   "metadata": {},
   "outputs": [
    {
     "data": {
      "text/plain": [
       "1.4189385332046727"
      ]
     },
     "execution_count": 2,
     "metadata": {},
     "output_type": "execute_result"
    }
   ],
   "source": [
    "p = Normal(0,1)\n",
    "differential_entropy(p)"
   ]
  },
  {
   "cell_type": "code",
   "execution_count": 3,
   "metadata": {},
   "outputs": [
    {
     "data": {
      "text/plain": [
       "0.8763900664458875"
      ]
     },
     "execution_count": 3,
     "metadata": {},
     "output_type": "execute_result"
    }
   ],
   "source": [
    "q = Normal(2,3)\n",
    "kl_div(p,q)"
   ]
  },
  {
   "cell_type": "code",
   "execution_count": 4,
   "metadata": {},
   "outputs": [
    {
     "data": {
      "text/plain": [
       "2.29532859965056"
      ]
     },
     "execution_count": 4,
     "metadata": {},
     "output_type": "execute_result"
    }
   ],
   "source": [
    "cross_entropy(p,q)"
   ]
  },
  {
   "cell_type": "code",
   "execution_count": 5,
   "metadata": {},
   "outputs": [
    {
     "data": {
      "text/plain": [
       "Normal{Float64}(μ=2.0, σ=3.0)"
      ]
     },
     "execution_count": 5,
     "metadata": {},
     "output_type": "execute_result"
    }
   ],
   "source": [
    "p2 = Normal(0,1)\n",
    "q2 = Normal(2,3)"
   ]
  },
  {
   "cell_type": "code",
   "execution_count": 6,
   "metadata": {},
   "outputs": [
    {
     "data": {
      "text/plain": [
       "2-element Array{Float64,1}:\n",
       " 1.4189385332046727\n",
       " 1.4189385332046727"
      ]
     },
     "execution_count": 6,
     "metadata": {},
     "output_type": "execute_result"
    }
   ],
   "source": [
    "differential_entropy.([p,p2])"
   ]
  },
  {
   "cell_type": "code",
   "execution_count": 7,
   "metadata": {},
   "outputs": [
    {
     "data": {
      "text/plain": [
       "2-element Array{Float64,1}:\n",
       " 0.8763900664458875\n",
       " 0.8763900664458875"
      ]
     },
     "execution_count": 7,
     "metadata": {},
     "output_type": "execute_result"
    }
   ],
   "source": [
    "kl_div.([p,p2],[q,q2])"
   ]
  },
  {
   "cell_type": "code",
   "execution_count": 2,
   "metadata": {},
   "outputs": [
    {
     "data": {
      "text/plain": [
       "2-element Array{Float64,1}:\n",
       " 0.002647551691759494\n",
       " 0.11107536260545436"
      ]
     },
     "execution_count": 2,
     "metadata": {},
     "output_type": "execute_result"
    }
   ],
   "source": [
    "m1, m2 = Normal(0,2), Normal(2,1)\n",
    "w1, w2 = Gamma(2,0.5), Gamma(3,1)\n",
    "VMP(2.4,[m1,m2],[w1,w2])"
   ]
  },
  {
   "cell_type": "code",
   "execution_count": 9,
   "metadata": {},
   "outputs": [
    {
     "data": {
      "text/plain": [
       "Gamma{Float64}(α=5.0, θ=4.2)"
      ]
     },
     "execution_count": 9,
     "metadata": {},
     "output_type": "execute_result"
    }
   ],
   "source": [
    "collide(Gamma(2,0.5),Gamma(4,0.5), Gamma(1,5))"
   ]
  },
  {
   "cell_type": "code",
   "execution_count": 10,
   "metadata": {},
   "outputs": [
    {
     "name": "stdout",
     "output_type": "stream",
     "text": [
      "2.8378770664093453\n",
      "2.8378770664093453\n"
     ]
    }
   ],
   "source": [
    "#p3 = MvNormal([2.3,-1.6],[1.0 0.001;0.001 1.0])\n",
    "p3 = MvNormal([2.3,-1.6],diagm(0=>ones(2)))\n",
    "println(differential_entropy(p3))\n",
    "println(entropy(p3))"
   ]
  },
  {
   "cell_type": "code",
   "execution_count": 11,
   "metadata": {},
   "outputs": [
    {
     "name": "stdout",
     "output_type": "stream",
     "text": [
      "2.8378770664093453\n",
      "2.8378770664093453\n"
     ]
    }
   ],
   "source": [
    "p4 = MvNormal([1.3,-1.5],[2.5 1.9;1.9 2.5])\n",
    "println(differential_entropy(p3))\n",
    "println(entropy(p3))"
   ]
  },
  {
   "cell_type": "code",
   "execution_count": 12,
   "metadata": {},
   "outputs": [
    {
     "data": {
      "text/plain": [
       "0.9825485494882034"
      ]
     },
     "execution_count": 12,
     "metadata": {},
     "output_type": "execute_result"
    }
   ],
   "source": [
    "kl_div(p3,p4)"
   ]
  },
  {
   "cell_type": "code",
   "execution_count": 13,
   "metadata": {},
   "outputs": [],
   "source": [
    "h_p3, T_p3, η_p3, A_eval_p3, A_p3 = exp_family(p3);\n",
    "h_p4, T_p4, η_p4, A_eval_p4, A_p4 = exp_family(p4);"
   ]
  },
  {
   "cell_type": "code",
   "execution_count": 14,
   "metadata": {},
   "outputs": [
    {
     "data": {
      "text/plain": [
       "kl (generic function with 1 method)"
      ]
     },
     "execution_count": 14,
     "metadata": {},
     "output_type": "execute_result"
    }
   ],
   "source": [
    "using LinearAlgebra\n",
    "kl(m1,m2,V1,V2,d) = 0.5*(logdet(V2)-logdet(V1) -d +tr(V2\\V1) +(m2-m1)'*(V2\\(m2-m1)))"
   ]
  },
  {
   "cell_type": "code",
   "execution_count": 15,
   "metadata": {},
   "outputs": [
    {
     "data": {
      "text/plain": [
       "([2.3, -1.6], [1.3, -1.5], [1.0 0.0; 0.0 1.0], [2.5 1.9; 1.9 2.5])"
      ]
     },
     "execution_count": 15,
     "metadata": {},
     "output_type": "execute_result"
    }
   ],
   "source": [
    "m3, m4, V3, V4 = [2.3,-1.6], [1.3,-1.5], [1 0.0;0.0 1], [2.5 1.9;1.9 2.5]"
   ]
  },
  {
   "cell_type": "code",
   "execution_count": 16,
   "metadata": {},
   "outputs": [
    {
     "data": {
      "text/plain": [
       "0.9825485494882031"
      ]
     },
     "execution_count": 16,
     "metadata": {},
     "output_type": "execute_result"
    }
   ],
   "source": [
    "kl(m3,m4,V3,V4,2)"
   ]
  },
  {
   "cell_type": "code",
   "execution_count": 17,
   "metadata": {},
   "outputs": [
    {
     "data": {
      "text/plain": [
       "1.5196105414208874"
      ]
     },
     "execution_count": 17,
     "metadata": {},
     "output_type": "execute_result"
    }
   ],
   "source": [
    "kl(m4,m3,V4,V3,2)"
   ]
  },
  {
   "cell_type": "code",
   "execution_count": 18,
   "metadata": {},
   "outputs": [
    {
     "data": {
      "text/plain": [
       "1.5196105414208867"
      ]
     },
     "execution_count": 18,
     "metadata": {},
     "output_type": "execute_result"
    }
   ],
   "source": [
    "kl_div(p4,p3)"
   ]
  },
  {
   "cell_type": "code",
   "execution_count": 19,
   "metadata": {},
   "outputs": [
    {
     "data": {
      "text/plain": [
       "0.9825485494882034"
      ]
     },
     "execution_count": 19,
     "metadata": {},
     "output_type": "execute_result"
    }
   ],
   "source": [
    "kl_div(p3,p4)"
   ]
  },
  {
   "cell_type": "code",
   "execution_count": 20,
   "metadata": {},
   "outputs": [
    {
     "data": {
      "text/plain": [
       "Normal{Float64}(μ=4.8, σ=7.2)"
      ]
     },
     "execution_count": 20,
     "metadata": {},
     "output_type": "execute_result"
    }
   ],
   "source": [
    "q*2.4"
   ]
  },
  {
   "cell_type": "code",
   "execution_count": 21,
   "metadata": {},
   "outputs": [
    {
     "data": {
      "text/plain": [
       "Normal{Float64}(μ=3.0, σ=4.5)"
      ]
     },
     "execution_count": 21,
     "metadata": {},
     "output_type": "execute_result"
    }
   ],
   "source": [
    "1.5*q"
   ]
  },
  {
   "cell_type": "code",
   "execution_count": 22,
   "metadata": {},
   "outputs": [
    {
     "ename": "LoadError",
     "evalue": "PosDefException: matrix is not positive definite; Cholesky factorization failed.",
     "output_type": "error",
     "traceback": [
      "PosDefException: matrix is not positive definite; Cholesky factorization failed.",
      "",
      "Stacktrace:",
      " [1] checkpositivedefinite at /Users/julia/buildbot/worker/package_macos64/build/usr/share/julia/stdlib/v1.5/LinearAlgebra/src/factorization.jl:18 [inlined]",
      " [2] cholesky!(::Hermitian{Float64,Array{Float64,2}}, ::Val{false}; check::Bool) at /Users/julia/buildbot/worker/package_macos64/build/usr/share/julia/stdlib/v1.5/LinearAlgebra/src/cholesky.jl:219",
      " [3] cholesky!(::Array{Float64,2}, ::Val{false}; check::Bool) at /Users/julia/buildbot/worker/package_macos64/build/usr/share/julia/stdlib/v1.5/LinearAlgebra/src/cholesky.jl:251",
      " [4] #cholesky#130 at /Users/julia/buildbot/worker/package_macos64/build/usr/share/julia/stdlib/v1.5/LinearAlgebra/src/cholesky.jl:344 [inlined]",
      " [5] cholesky at /Users/julia/buildbot/worker/package_macos64/build/usr/share/julia/stdlib/v1.5/LinearAlgebra/src/cholesky.jl:344 [inlined] (repeats 2 times)",
      " [6] PDMat at /Users/sakbayrak/.julia/packages/PDMats/G0Prn/src/pdmat.jl:19 [inlined]",
      " [7] MvNormal at /Users/sakbayrak/.julia/packages/Distributions/nAJyo/src/multivariate/mvnormal.jl:211 [inlined]",
      " [8] *(::Array{Float64,2}, ::MvNormal{Float64,PDMats.PDMat{Float64,Array{Float64,2}},Array{Float64,1}}) at /Users/sakbayrak/Codes/BayesianUtilities/inference_rules.jl:23",
      " [9] top-level scope at In[22]:2",
      " [10] include_string(::Function, ::Module, ::String, ::String) at ./loading.jl:1091"
     ]
    }
   ],
   "source": [
    "A = 10*randn(3,2);\n",
    "A*p3"
   ]
  },
  {
   "cell_type": "code",
   "execution_count": 23,
   "metadata": {},
   "outputs": [
    {
     "data": {
      "text/plain": [
       "Normal{Float64}(μ=-0.9003246224998129, σ=7.153891176417836)"
      ]
     },
     "execution_count": 23,
     "metadata": {},
     "output_type": "execute_result"
    }
   ],
   "source": [
    "B = 5*randn(1,2);\n",
    "B*p3"
   ]
  },
  {
   "cell_type": "code",
   "execution_count": 24,
   "metadata": {},
   "outputs": [
    {
     "data": {
      "text/plain": [
       "Normal{Float64}(μ=2.0, σ=3.1622776601683795)"
      ]
     },
     "execution_count": 24,
     "metadata": {},
     "output_type": "execute_result"
    }
   ],
   "source": [
    "p + q"
   ]
  },
  {
   "cell_type": "code",
   "execution_count": 25,
   "metadata": {},
   "outputs": [
    {
     "data": {
      "text/plain": [
       "FullNormal(\n",
       "dim: 2\n",
       "μ: [3.5999999999999996, -3.1]\n",
       "Σ: [3.5 1.9; 1.9 3.5]\n",
       ")\n"
      ]
     },
     "execution_count": 25,
     "metadata": {},
     "output_type": "execute_result"
    }
   ],
   "source": [
    "p3+p4"
   ]
  },
  {
   "cell_type": "code",
   "execution_count": 26,
   "metadata": {},
   "outputs": [
    {
     "ename": "LoadError",
     "evalue": "MethodError: no method matching exp_family(::Type{MvNormal{Float64,PDMats.PDMat{Float64,Array{Float64,2}},Array{Float64,1}}}, ::Array{Float64,1})\nClosest candidates are:\n  exp_family(!Matched::Normal, ::Array{T,1} where T) at /Users/sakbayrak/Codes/BayesianUtilities/exp_family.jl:28\n  exp_family(!Matched::MvNormal, ::Array{T,1} where T) at /Users/sakbayrak/Codes/BayesianUtilities/exp_family.jl:54\n  exp_family(!Matched::Poisson, ::Array{T,1} where T) at /Users/sakbayrak/Codes/BayesianUtilities/exp_family.jl:103\n  ...",
     "output_type": "error",
     "traceback": [
      "MethodError: no method matching exp_family(::Type{MvNormal{Float64,PDMats.PDMat{Float64,Array{Float64,2}},Array{Float64,1}}}, ::Array{Float64,1})\nClosest candidates are:\n  exp_family(!Matched::Normal, ::Array{T,1} where T) at /Users/sakbayrak/Codes/BayesianUtilities/exp_family.jl:28\n  exp_family(!Matched::MvNormal, ::Array{T,1} where T) at /Users/sakbayrak/Codes/BayesianUtilities/exp_family.jl:54\n  exp_family(!Matched::Poisson, ::Array{T,1} where T) at /Users/sakbayrak/Codes/BayesianUtilities/exp_family.jl:103\n  ...",
      "",
      "Stacktrace:",
      " [1] collide(::MvNormal{Float64,PDMats.PDMat{Float64,Array{Float64,2}},Array{Float64,1}}, ::Vararg{MvNormal{Float64,PDMats.PDMat{Float64,Array{Float64,2}},Array{Float64,1}},N} where N) at /Users/sakbayrak/Codes/BayesianUtilities/inference_rules.jl:15",
      " [2] top-level scope at In[26]:1",
      " [3] include_string(::Function, ::Module, ::String, ::String) at ./loading.jl:1091"
     ]
    }
   ],
   "source": [
    "collide(p3,p4)"
   ]
  },
  {
   "cell_type": "code",
   "execution_count": 27,
   "metadata": {},
   "outputs": [
    {
     "data": {
      "text/plain": [
       "prod (generic function with 1 method)"
      ]
     },
     "execution_count": 27,
     "metadata": {},
     "output_type": "execute_result"
    }
   ],
   "source": [
    "# Product of two multivariate Gaussian messages for testing\n",
    "function prod(p1::MvNormal, p2::MvNormal)\n",
    "    S = cov(p1)+cov(p2)\n",
    "    L = cholesky(S).L\n",
    "    Linv = inv(L)\n",
    "    S1 = Linv*cov(p1)\n",
    "    S2 = Linv*cov(p2)\n",
    "    m1 = Linv*mean(p1)\n",
    "    m2 = Linv*mean(p2)\n",
    "    S3 = Matrix(Hermitian(S1'*S2))\n",
    "    m3 = S2'*m1 + S1'*m2\n",
    "    return MvNormal(m3,S3)\n",
    "end"
   ]
  },
  {
   "cell_type": "code",
   "execution_count": 28,
   "metadata": {},
   "outputs": [
    {
     "data": {
      "text/plain": [
       "FullNormal(\n",
       "dim: 2\n",
       "μ: [1.872916666666667, -1.3395833333333336]\n",
       "Σ: [0.5949074074074074 0.21990740740740738; 0.21990740740740738 0.5949074074074076]\n",
       ")\n"
      ]
     },
     "execution_count": 28,
     "metadata": {},
     "output_type": "execute_result"
    }
   ],
   "source": [
    "prod(p3,p4)"
   ]
  },
  {
   "cell_type": "code",
   "execution_count": 29,
   "metadata": {},
   "outputs": [
    {
     "data": {
      "text/plain": [
       "diff_Ent (generic function with 1 method)"
      ]
     },
     "execution_count": 29,
     "metadata": {},
     "output_type": "execute_result"
    }
   ],
   "source": [
    "diff_Ent(λ::Vector) = differential_entropy(exp_family(p,λ))"
   ]
  },
  {
   "cell_type": "code",
   "execution_count": 30,
   "metadata": {},
   "outputs": [
    {
     "data": {
      "text/plain": [
       "0.3792177623647548"
      ]
     },
     "execution_count": 30,
     "metadata": {},
     "output_type": "execute_result"
    }
   ],
   "source": [
    "diff_Ent([2,-4])"
   ]
  },
  {
   "cell_type": "code",
   "execution_count": 38,
   "metadata": {},
   "outputs": [
    {
     "ename": "LoadError",
     "evalue": "MethodError: no method matching Poisson(::Int64; -=-)\nClosest candidates are:\n  Poisson(::Integer) at /Users/sakbayrak/.julia/packages/Distributions/nAJyo/src/univariate/discrete/poisson.jl:34 got unsupported keyword argument \"-\"\n  Poisson(::T; check_args) where T<:Real at /Users/sakbayrak/.julia/packages/Distributions/nAJyo/src/univariate/discrete/poisson.jl:29 got unsupported keyword argument \"-\"\n  Poisson(::Any; -) at /Users/sakbayrak/Codes/BayesianUtilities/inference_rules.jl:32\n  ...",
     "output_type": "error",
     "traceback": [
      "MethodError: no method matching Poisson(::Int64; -=-)\nClosest candidates are:\n  Poisson(::Integer) at /Users/sakbayrak/.julia/packages/Distributions/nAJyo/src/univariate/discrete/poisson.jl:34 got unsupported keyword argument \"-\"\n  Poisson(::T; check_args) where T<:Real at /Users/sakbayrak/.julia/packages/Distributions/nAJyo/src/univariate/discrete/poisson.jl:29 got unsupported keyword argument \"-\"\n  Poisson(::Any; -) at /Users/sakbayrak/Codes/BayesianUtilities/inference_rules.jl:32\n  ...",
      "",
      "Stacktrace:",
      " [1] kwerr(::NamedTuple{(:-,),Tuple{typeof(-)}}, ::Type{T} where T, ::Int64) at ./error.jl:157",
      " [2] top-level scope at In[38]:1",
      " [3] include_string(::Function, ::Module, ::String, ::String) at ./loading.jl:1091"
     ]
    }
   ],
   "source": [
    "Poisson(7; -)"
   ]
  },
  {
   "cell_type": "code",
   "execution_count": 31,
   "metadata": {},
   "outputs": [
    {
     "data": {
      "text/plain": [
       "exp_prob (generic function with 1 method)"
      ]
     },
     "execution_count": 31,
     "metadata": {},
     "output_type": "execute_result"
    }
   ],
   "source": [
    "exp_prob(x) = exp_family(p,x)"
   ]
  },
  {
   "cell_type": "code",
   "execution_count": 32,
   "metadata": {},
   "outputs": [
    {
     "data": {
      "text/plain": [
       "0.3520653267642995"
      ]
     },
     "execution_count": 32,
     "metadata": {},
     "output_type": "execute_result"
    }
   ],
   "source": [
    "exp_prob(0.5)"
   ]
  },
  {
   "cell_type": "code",
   "execution_count": 33,
   "metadata": {},
   "outputs": [
    {
     "data": {
      "text/plain": [
       "exp_prob (generic function with 1 method)"
      ]
     },
     "execution_count": 33,
     "metadata": {},
     "output_type": "execute_result"
    }
   ],
   "source": [
    "p5(λ) = Poisson(λ)\n",
    "exp_prob(λ) = exp_family(p5(λ),3) "
   ]
  },
  {
   "cell_type": "code",
   "execution_count": 34,
   "metadata": {},
   "outputs": [
    {
     "data": {
      "text/plain": [
       "0.19536681481316448"
      ]
     },
     "execution_count": 34,
     "metadata": {},
     "output_type": "execute_result"
    }
   ],
   "source": [
    "exp_prob(4)"
   ]
  },
  {
   "cell_type": "code",
   "execution_count": 35,
   "metadata": {},
   "outputs": [
    {
     "data": {
      "text/plain": [
       "deneme (generic function with 1 method)"
      ]
     },
     "execution_count": 35,
     "metadata": {},
     "output_type": "execute_result"
    }
   ],
   "source": [
    "p6 = Poisson(5)\n",
    "deneme(η) = exp_family(p6,7,η)"
   ]
  },
  {
   "cell_type": "code",
   "execution_count": 36,
   "metadata": {},
   "outputs": [
    {
     "ename": "LoadError",
     "evalue": "DimensionMismatch(\"first array has length 2 which does not match the length of the second, 1.\")",
     "output_type": "error",
     "traceback": [
      "DimensionMismatch(\"first array has length 2 which does not match the length of the second, 1.\")",
      "",
      "Stacktrace:",
      " [1] dot(::Array{Float64,1}, ::Array{Int64,1}) at /Users/julia/buildbot/worker/package_macos64/build/usr/share/julia/stdlib/v1.5/LinearAlgebra/src/generic.jl:889",
      " [2] * at /Users/julia/buildbot/worker/package_macos64/build/usr/share/julia/stdlib/v1.5/LinearAlgebra/src/adjtrans.jl:283 [inlined]",
      " [3] rrule at /Users/sakbayrak/.julia/packages/ChainRules/fxzix/src/rulesets/Base/arraymath.jl:40 [inlined]",
      " [4] chain_rrule at /Users/sakbayrak/.julia/packages/Zygote/ggM8Z/src/compiler/chainrules.jl:89 [inlined]",
      " [5] macro expansion at /Users/sakbayrak/.julia/packages/Zygote/ggM8Z/src/compiler/interface2.jl:0 [inlined]",
      " [6] _pullback at /Users/sakbayrak/.julia/packages/Zygote/ggM8Z/src/compiler/interface2.jl:12 [inlined]",
      " [7] exp_family at /Users/sakbayrak/Codes/BayesianUtilities/exp_family.jl:13 [inlined]",
      " [8] _pullback(::Zygote.Context, ::typeof(exp_family), ::Poisson{Float64}, ::Int64, ::Array{Float64,1}) at /Users/sakbayrak/.julia/packages/Zygote/ggM8Z/src/compiler/interface2.jl:0",
      " [9] deneme at ./In[35]:2 [inlined]",
      " [10] _pullback(::Zygote.Context, ::typeof(deneme), ::Array{Float64,1}) at /Users/sakbayrak/.julia/packages/Zygote/ggM8Z/src/compiler/interface2.jl:0",
      " [11] _pullback(::Function, ::Array{Float64,1}) at /Users/sakbayrak/.julia/packages/Zygote/ggM8Z/src/compiler/interface.jl:33",
      " [12] pullback(::Function, ::Array{Float64,1}) at /Users/sakbayrak/.julia/packages/Zygote/ggM8Z/src/compiler/interface.jl:39",
      " [13] gradient(::Function, ::Array{Float64,1}) at /Users/sakbayrak/.julia/packages/Zygote/ggM8Z/src/compiler/interface.jl:48",
      " [14] (::Zygote.var\"#43#44\"{typeof(deneme)})(::Array{Float64,1}) at /Users/sakbayrak/.julia/packages/Zygote/ggM8Z/src/compiler/interface.jl:52",
      " [15] top-level scope at In[36]:2",
      " [16] include_string(::Function, ::Module, ::String, ::String) at ./loading.jl:1091"
     ]
    }
   ],
   "source": [
    "using Zygote\n",
    "deneme'(ones(2))"
   ]
  },
  {
   "cell_type": "code",
   "execution_count": 38,
   "metadata": {},
   "outputs": [],
   "source": [
    "x = deneme'(ones(2))"
   ]
  },
  {
   "cell_type": "code",
   "execution_count": 39,
   "metadata": {},
   "outputs": [],
   "source": [
    "x"
   ]
  },
  {
   "cell_type": "code",
   "execution_count": 40,
   "metadata": {},
   "outputs": [
    {
     "data": {
      "text/plain": [
       "0.104444862957054"
      ]
     },
     "execution_count": 40,
     "metadata": {},
     "output_type": "execute_result"
    }
   ],
   "source": [
    "deneme(ones(2))"
   ]
  },
  {
   "cell_type": "code",
   "execution_count": 43,
   "metadata": {},
   "outputs": [
    {
     "data": {
      "text/plain": [
       "2-element Array{Float64,1}:\n",
       " 0.0\n",
       " 0.0"
      ]
     },
     "execution_count": 43,
     "metadata": {},
     "output_type": "execute_result"
    }
   ],
   "source": [
    "using ForwardDiff\n",
    "ForwardDiff.gradient(deneme,ones(2))"
   ]
  },
  {
   "cell_type": "code",
   "execution_count": 40,
   "metadata": {},
   "outputs": [
    {
     "name": "stdout",
     "output_type": "stream",
     "text": [
      "Expr\n",
      "  head: Symbol call\n",
      "  args: Array{Any}((3,))\n",
      "    1: Symbol exp_family\n",
      "    2: Symbol p6\n",
      "    3: Symbol x\n"
     ]
    }
   ],
   "source": [
    "dump(:(exp_family(p6,x)))"
   ]
  },
  {
   "cell_type": "code",
   "execution_count": 41,
   "metadata": {},
   "outputs": [
    {
     "name": "stdout",
     "output_type": "stream",
     "text": [
      "Expr\n",
      "  head: Symbol call\n",
      "  args: Array{Any}((3,))\n",
      "    1: Symbol -\n",
      "    2: Expr\n",
      "      head: Symbol call\n",
      "      args: Array{Any}((3,))\n",
      "        1: Symbol -\n",
      "        2: Expr\n",
      "          head: Symbol call\n",
      "          args: Array{Any}((3,))\n",
      "            1: Symbol *\n",
      "            2: Symbol y\n",
      "            3: Expr\n",
      "              head: Symbol call\n",
      "              args: Array{Any}((2,))\n",
      "                1: Symbol log\n",
      "                2: Symbol z\n",
      "        3: Symbol z\n",
      "    3: Expr\n",
      "      head: Symbol call\n",
      "      args: Array{Any}((2,))\n",
      "        1: Symbol log\n",
      "        2: Symbol y!\n"
     ]
    }
   ],
   "source": [
    "dump(:(y*log(z) - z - log(y!)))"
   ]
  },
  {
   "cell_type": "code",
   "execution_count": 42,
   "metadata": {},
   "outputs": [
    {
     "data": {
      "text/plain": [
       ":((y * log(z) - z) - log(y!))"
      ]
     },
     "execution_count": 42,
     "metadata": {},
     "output_type": "execute_result"
    }
   ],
   "source": [
    "cici = :(y*log(z) - z - log(y!))"
   ]
  },
  {
   "cell_type": "code",
   "execution_count": 44,
   "metadata": {},
   "outputs": [
    {
     "data": {
      "text/plain": [
       "3-element Array{Any,1}:\n",
       " :-\n",
       " :(y * log(z) - z)\n",
       " :(log(y!))"
      ]
     },
     "execution_count": 44,
     "metadata": {},
     "output_type": "execute_result"
    }
   ],
   "source": [
    "cici.args"
   ]
  },
  {
   "cell_type": "code",
   "execution_count": 46,
   "metadata": {},
   "outputs": [
    {
     "data": {
      "text/plain": [
       "3-element Array{Any,1}:\n",
       " :-\n",
       " :(y * log(z))\n",
       " :z"
      ]
     },
     "execution_count": 46,
     "metadata": {},
     "output_type": "execute_result"
    }
   ],
   "source": [
    "cici.args[2].args"
   ]
  },
  {
   "cell_type": "code",
   "execution_count": 47,
   "metadata": {},
   "outputs": [
    {
     "data": {
      "text/plain": [
       "3-element Array{Any,1}:\n",
       " :*\n",
       " :y\n",
       " :(log(z))"
      ]
     },
     "execution_count": 47,
     "metadata": {},
     "output_type": "execute_result"
    }
   ],
   "source": [
    "cici.args[2].args[2].args"
   ]
  },
  {
   "cell_type": "code",
   "execution_count": 51,
   "metadata": {},
   "outputs": [
    {
     "name": "stdout",
     "output_type": "stream",
     "text": [
      "a = :-\n",
      "a = :(y * log(z) - z)\n",
      "a = :(log(y!))\n"
     ]
    }
   ],
   "source": [
    "for a in cici.args\n",
    "    @show a\n",
    "end"
   ]
  },
  {
   "cell_type": "code",
   "execution_count": 53,
   "metadata": {},
   "outputs": [
    {
     "data": {
      "text/plain": [
       "6-element Array{Float64,1}:\n",
       "  2.3\n",
       " -1.6\n",
       "  6.289999999999999\n",
       " -3.6799999999999997\n",
       " -3.6799999999999997\n",
       "  3.5600000000000005"
      ]
     },
     "execution_count": 53,
     "metadata": {},
     "output_type": "execute_result"
    }
   ],
   "source": [
    "A_p3'(η_p3)"
   ]
  }
 ],
 "metadata": {
  "@webio": {
   "lastCommId": null,
   "lastKernelId": null
  },
  "kernelspec": {
   "display_name": "Julia 1.5.3",
   "language": "julia",
   "name": "julia-1.5"
  },
  "language_info": {
   "file_extension": ".jl",
   "mimetype": "application/julia",
   "name": "julia",
   "version": "1.5.3"
  }
 },
 "nbformat": 4,
 "nbformat_minor": 4
}
